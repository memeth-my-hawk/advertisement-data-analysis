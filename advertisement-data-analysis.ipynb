{
 "cells": [
  {
   "cell_type": "markdown",
   "metadata": {
    "collapsed": false
   },
   "source": [
    "# **Import necessary libraries**\n",
    "\n"
   ]
  },
  {
   "cell_type": "code",
   "execution_count": 1,
   "metadata": {
    "collapsed": false
   },
   "outputs": [
   ],
   "source": [
    "#import necessary libraries\n",
    "import pandas as pd\n",
    "import numpy as np\n",
    "import os\n",
    "import random as rand\n",
    "import string\n",
    "#!pip install openpyxl # because the docker images on our cocalc servers didn't have it installed for some weird, unknown reason."
   ]
  },
  {
   "cell_type": "markdown",
   "metadata": {
    "collapsed": false
   },
   "source": [
    "# **Custom functions that we will use during this project**"
   ]
  },
  {
   "cell_type": "code",
   "execution_count": 2,
   "metadata": {
    "collapsed": false
   },
   "outputs": [
   ],
   "source": [
    "# Create a function to find outliers using IQR\n",
    "def find_outliers_IQR(df):\n",
    "    #this function takes a dataframe or only a column and calculates outliers for each value based on IQR\n",
    "    \n",
    "    q1 = df.quantile(0.25) # variable for the first quartile\n",
    "    \n",
    "    q3 = df.quantile(0.75) #variable for the third quartile\n",
    "    \n",
    "    IQR = q3 - q1 #calculate the IQR\n",
    "    \n",
    "    outliers = df[((df<(q1-1.5*IQR)) | (df>(q3+1.5*IQR)))] #calculate outliers for every value and put them in a series\n",
    "    \n",
    "    return outliers\n",
    "\n",
    "\n",
    "# Range function\n",
    "def range_column(df):\n",
    "    max = df.max()\n",
    "    min = df.min()\n",
    "    range = max-min\n",
    "    return range\n",
    "\n",
    "\n",
    "\n",
    "# (NA/Null) Value Percentage Calculator\n",
    "def naValues(df):\n",
    "    \n",
    "    for column in df:\n",
    "        \n",
    "        total_values = len(df.index) # number of all values in a column\n",
    "        \n",
    "        total_garb = df[column].isna().sum() # number off all NA/Null values (apparently null and na are same in pandas, df.isnull() == df.isna())\n",
    "     \n",
    "        garb_perc = (total_garb * 100) // total_values\n",
    "        \n",
    "        print(column, \" has total of \", total_garb, \" NA/Null values\")\n",
    "        print(\"NA/Null percentage of \", column,\" is \", garb_perc, \"% \\n\")\n",
    "            \n",
    "\n",
    "        \n",
    "\n",
    "# A function that manipulates strings in columns.\n",
    "def str_basicclean(df,column ='',style = 'cap',sp_char = string.whitespace): # capitalizes strings and strips whitespaces by default, it can strip anything if provided as argument.\n",
    "    \n",
    "    \n",
    "    if type(sp_char) == str:    \n",
    "        df[column] = df[column].str.strip(sp_char)\n",
    "    else:\n",
    "        df[column] = df[column].str.strip()\n",
    "    \n",
    "    if style == 'up':\n",
    "        df[column] = df[column].str.upper()\n",
    "    elif style == 'low':\n",
    "        df[column] = df[column].str.lower()\n",
    "    elif style == 'cap':\n",
    "        df[column] = df[column].str.capitalize()\n",
    "    return df[column]"
   ]
  },
  {
   "cell_type": "markdown",
   "metadata": {
    "collapsed": false
   },
   "source": [
    "# **Import the raw data via pandas**\n",
    "\n"
   ]
  },
  {
   "cell_type": "code",
   "execution_count": 3,
   "metadata": {
    "collapsed": false
   },
   "outputs": [
   ],
   "source": [
    "#read the excel file and create a data frame\n",
    "dataFrame = pd.read_excel('Advertising_Sales.xlsx')"
   ]
  },
  {
   "cell_type": "markdown",
   "metadata": {
    "collapsed": false
   },
   "source": [
    "## **Display descriptive and technical info about the raw, dirty data**"
   ]
  },
  {
   "cell_type": "code",
   "execution_count": 4,
   "metadata": {
    "collapsed": false
   },
   "outputs": [
    {
     "data": {
      "text/html": [
       "<div>\n",
       "<style scoped>\n",
       "    .dataframe tbody tr th:only-of-type {\n",
       "        vertical-align: middle;\n",
       "    }\n",
       "\n",
       "    .dataframe tbody tr th {\n",
       "        vertical-align: top;\n",
       "    }\n",
       "\n",
       "    .dataframe thead th {\n",
       "        text-align: right;\n",
       "    }\n",
       "</style>\n",
       "<table border=\"1\" class=\"dataframe\">\n",
       "  <thead>\n",
       "    <tr style=\"text-align: right;\">\n",
       "      <th></th>\n",
       "      <th>count</th>\n",
       "      <th>unique</th>\n",
       "      <th>top</th>\n",
       "      <th>freq</th>\n",
       "    </tr>\n",
       "  </thead>\n",
       "  <tbody>\n",
       "    <tr>\n",
       "      <th>Data Description : The dataset is designed to simulate a relationship between advertising variables over time, allowing for analysis and exploration of patterns and trends in advertising performance</th>\n",
       "      <td>146</td>\n",
       "      <td>13</td>\n",
       "      <td>2022</td>\n",
       "      <td>13</td>\n",
       "    </tr>\n",
       "    <tr>\n",
       "      <th>Unnamed: 1</th>\n",
       "      <td>146</td>\n",
       "      <td>18</td>\n",
       "      <td>Jul</td>\n",
       "      <td>13</td>\n",
       "    </tr>\n",
       "    <tr>\n",
       "      <th>Unnamed: 2</th>\n",
       "      <td>146</td>\n",
       "      <td>11</td>\n",
       "      <td>Electronics</td>\n",
       "      <td>46</td>\n",
       "    </tr>\n",
       "    <tr>\n",
       "      <th>Unnamed: 3</th>\n",
       "      <td>146</td>\n",
       "      <td>7</td>\n",
       "      <td>Display</td>\n",
       "      <td>69</td>\n",
       "    </tr>\n",
       "    <tr>\n",
       "      <th>Unnamed: 4</th>\n",
       "      <td>146</td>\n",
       "      <td>8</td>\n",
       "      <td>Top</td>\n",
       "      <td>47</td>\n",
       "    </tr>\n",
       "    <tr>\n",
       "      <th>Unnamed: 5</th>\n",
       "      <td>146</td>\n",
       "      <td>47</td>\n",
       "      <td>60000</td>\n",
       "      <td>6</td>\n",
       "    </tr>\n",
       "    <tr>\n",
       "      <th>Unnamed: 6</th>\n",
       "      <td>145</td>\n",
       "      <td>63</td>\n",
       "      <td>1200</td>\n",
       "      <td>7</td>\n",
       "    </tr>\n",
       "    <tr>\n",
       "      <th>Unnamed: 7</th>\n",
       "      <td>146.0</td>\n",
       "      <td>25.0</td>\n",
       "      <td>0.0241</td>\n",
       "      <td>15.0</td>\n",
       "    </tr>\n",
       "    <tr>\n",
       "      <th>Unnamed: 8</th>\n",
       "      <td>144</td>\n",
       "      <td>48</td>\n",
       "      <td>51</td>\n",
       "      <td>6</td>\n",
       "    </tr>\n",
       "    <tr>\n",
       "      <th>Unnamed: 9</th>\n",
       "      <td>145</td>\n",
       "      <td>48</td>\n",
       "      <td>5100</td>\n",
       "      <td>6</td>\n",
       "    </tr>\n",
       "    <tr>\n",
       "      <th>Unnamed: 10</th>\n",
       "      <td>146</td>\n",
       "      <td>15</td>\n",
       "      <td>North</td>\n",
       "      <td>34</td>\n",
       "    </tr>\n",
       "  </tbody>\n",
       "</table>\n",
       "</div>"
      ],
      "text/plain": [
       "                                                    count unique          top  \\\n",
       "Data Description : The dataset is designed to s...    146     13         2022   \n",
       "Unnamed: 1                                            146     18          Jul   \n",
       "Unnamed: 2                                            146     11  Electronics   \n",
       "Unnamed: 3                                            146      7      Display   \n",
       "Unnamed: 4                                            146      8          Top   \n",
       "Unnamed: 5                                            146     47        60000   \n",
       "Unnamed: 6                                            145     63         1200   \n",
       "Unnamed: 7                                          146.0   25.0       0.0241   \n",
       "Unnamed: 8                                            144     48           51   \n",
       "Unnamed: 9                                            145     48         5100   \n",
       "Unnamed: 10                                           146     15        North   \n",
       "\n",
       "                                                    freq  \n",
       "Data Description : The dataset is designed to s...    13  \n",
       "Unnamed: 1                                            13  \n",
       "Unnamed: 2                                            46  \n",
       "Unnamed: 3                                            69  \n",
       "Unnamed: 4                                            47  \n",
       "Unnamed: 5                                             6  \n",
       "Unnamed: 6                                             7  \n",
       "Unnamed: 7                                          15.0  \n",
       "Unnamed: 8                                             6  \n",
       "Unnamed: 9                                             6  \n",
       "Unnamed: 10                                           34  "
      ]
     },
     "execution_count": 4,
     "metadata": {
     },
     "output_type": "execute_result"
    }
   ],
   "source": [
    "dataFrame.describe().transpose().round(3)"
   ]
  },
  {
   "cell_type": "code",
   "execution_count": 5,
   "metadata": {
    "collapsed": false,
    "scrolled": true
   },
   "outputs": [
    {
     "data": {
      "text/html": [
       "<div>\n",
       "<style scoped>\n",
       "    .dataframe tbody tr th:only-of-type {\n",
       "        vertical-align: middle;\n",
       "    }\n",
       "\n",
       "    .dataframe tbody tr th {\n",
       "        vertical-align: top;\n",
       "    }\n",
       "\n",
       "    .dataframe thead th {\n",
       "        text-align: right;\n",
       "    }\n",
       "</style>\n",
       "<table border=\"1\" class=\"dataframe\">\n",
       "  <thead>\n",
       "    <tr style=\"text-align: right;\">\n",
       "      <th></th>\n",
       "      <th>Data Description : The dataset is designed to simulate a relationship between advertising variables over time, allowing for analysis and exploration of patterns and trends in advertising performance</th>\n",
       "      <th>Unnamed: 1</th>\n",
       "      <th>Unnamed: 2</th>\n",
       "      <th>Unnamed: 3</th>\n",
       "      <th>Unnamed: 4</th>\n",
       "      <th>Unnamed: 5</th>\n",
       "      <th>Unnamed: 6</th>\n",
       "      <th>Unnamed: 7</th>\n",
       "      <th>Unnamed: 8</th>\n",
       "      <th>Unnamed: 9</th>\n",
       "      <th>Unnamed: 10</th>\n",
       "    </tr>\n",
       "  </thead>\n",
       "  <tbody>\n",
       "    <tr>\n",
       "      <th>0</th>\n",
       "      <td>NaN</td>\n",
       "      <td>NaN</td>\n",
       "      <td>NaN</td>\n",
       "      <td>NaN</td>\n",
       "      <td>NaN</td>\n",
       "      <td>NaN</td>\n",
       "      <td>NaN</td>\n",
       "      <td>NaN</td>\n",
       "      <td>NaN</td>\n",
       "      <td>NaN</td>\n",
       "      <td>NaN</td>\n",
       "    </tr>\n",
       "    <tr>\n",
       "      <th>1</th>\n",
       "      <td>YEAR</td>\n",
       "      <td>MONTH</td>\n",
       "      <td>**Product_Type</td>\n",
       "      <td>Ad_Type</td>\n",
       "      <td>Ad_Slot</td>\n",
       "      <td>the number of times the ad was viewed</td>\n",
       "      <td>Clicks</td>\n",
       "      <td>CTR</td>\n",
       "      <td>SALESSS</td>\n",
       "      <td>Revenue</td>\n",
       "      <td>Region</td>\n",
       "    </tr>\n",
       "    <tr>\n",
       "      <th>2</th>\n",
       "      <td>2011</td>\n",
       "      <td>Jan</td>\n",
       "      <td>Electronics</td>\n",
       "      <td>Display</td>\n",
       "      <td>Top</td>\n",
       "      <td>50000</td>\n",
       "      <td>1200</td>\n",
       "      <td>0.024</td>\n",
       "      <td>50</td>\n",
       "      <td>5000</td>\n",
       "      <td>North</td>\n",
       "    </tr>\n",
       "    <tr>\n",
       "      <th>3</th>\n",
       "      <td>2011</td>\n",
       "      <td>Feb</td>\n",
       "      <td>Clothing</td>\n",
       "      <td>Video</td>\n",
       "      <td>Side</td>\n",
       "      <td>35000</td>\n",
       "      <td>800</td>\n",
       "      <td>0.0229</td>\n",
       "      <td>30</td>\n",
       "      <td>3000</td>\n",
       "      <td>\"West\"</td>\n",
       "    </tr>\n",
       "    <tr>\n",
       "      <th>4</th>\n",
       "      <td>2011</td>\n",
       "      <td>Mar</td>\n",
       "      <td>Beauty</td>\n",
       "      <td>Display</td>\n",
       "      <td>Bottom</td>\n",
       "      <td>45000</td>\n",
       "      <td>1100</td>\n",
       "      <td>0.0244</td>\n",
       "      <td>40</td>\n",
       "      <td>4000</td>\n",
       "      <td>East</td>\n",
       "    </tr>\n",
       "  </tbody>\n",
       "</table>\n",
       "</div>"
      ],
      "text/plain": [
       "  Data Description : The dataset is designed to simulate a relationship between advertising variables over time, allowing for analysis and exploration of patterns and trends in advertising performance  \\\n",
       "0                                                NaN                                                                                                                                                       \n",
       "1                                               YEAR                                                                                                                                                       \n",
       "2                                               2011                                                                                                                                                       \n",
       "3                                               2011                                                                                                                                                       \n",
       "4                                               2011                                                                                                                                                       \n",
       "\n",
       "  Unnamed: 1      Unnamed: 2 Unnamed: 3 Unnamed: 4  \\\n",
       "0        NaN             NaN        NaN        NaN   \n",
       "1      MONTH  **Product_Type    Ad_Type    Ad_Slot   \n",
       "2        Jan     Electronics    Display        Top   \n",
       "3        Feb        Clothing      Video       Side   \n",
       "4        Mar          Beauty    Display     Bottom   \n",
       "\n",
       "                              Unnamed: 5 Unnamed: 6 Unnamed: 7 Unnamed: 8  \\\n",
       "0                                    NaN        NaN        NaN        NaN   \n",
       "1  the number of times the ad was viewed     Clicks        CTR    SALESSS   \n",
       "2                                  50000       1200      0.024         50   \n",
       "3                                  35000        800     0.0229         30   \n",
       "4                                  45000       1100     0.0244         40   \n",
       "\n",
       "  Unnamed: 9 Unnamed: 10  \n",
       "0        NaN         NaN  \n",
       "1    Revenue      Region  \n",
       "2       5000       North  \n",
       "3       3000      \"West\"  \n",
       "4       4000        East  "
      ]
     },
     "execution_count": 5,
     "metadata": {
     },
     "output_type": "execute_result"
    },
    {
     "data": {
      "text/html": [
       "<div>\n",
       "<style scoped>\n",
       "    .dataframe tbody tr th:only-of-type {\n",
       "        vertical-align: middle;\n",
       "    }\n",
       "\n",
       "    .dataframe tbody tr th {\n",
       "        vertical-align: top;\n",
       "    }\n",
       "\n",
       "    .dataframe thead th {\n",
       "        text-align: right;\n",
       "    }\n",
       "</style>\n",
       "<table border=\"1\" class=\"dataframe\">\n",
       "  <thead>\n",
       "    <tr style=\"text-align: right;\">\n",
       "      <th></th>\n",
       "      <th>Data Description : The dataset is designed to simulate a relationship between advertising variables over time, allowing for analysis and exploration of patterns and trends in advertising performance</th>\n",
       "      <th>Unnamed: 1</th>\n",
       "      <th>Unnamed: 2</th>\n",
       "      <th>Unnamed: 3</th>\n",
       "      <th>Unnamed: 4</th>\n",
       "      <th>Unnamed: 5</th>\n",
       "      <th>Unnamed: 6</th>\n",
       "      <th>Unnamed: 7</th>\n",
       "      <th>Unnamed: 8</th>\n",
       "      <th>Unnamed: 9</th>\n",
       "      <th>Unnamed: 10</th>\n",
       "    </tr>\n",
       "  </thead>\n",
       "  <tbody>\n",
       "    <tr>\n",
       "      <th>142</th>\n",
       "      <td>2022</td>\n",
       "      <td>Aug</td>\n",
       "      <td>Clothing</td>\n",
       "      <td>video</td>\n",
       "      <td>Side</td>\n",
       "      <td>48000</td>\n",
       "      <td>1140</td>\n",
       "      <td>0.0238</td>\n",
       "      <td>48</td>\n",
       "      <td>4800</td>\n",
       "      <td>South</td>\n",
       "    </tr>\n",
       "    <tr>\n",
       "      <th>143</th>\n",
       "      <td>2022</td>\n",
       "      <td>Sep</td>\n",
       "      <td>Beauty</td>\n",
       "      <td>display</td>\n",
       "      <td>bottom</td>\n",
       "      <td>62000</td>\n",
       "      <td>1500</td>\n",
       "      <td>0.0242</td>\n",
       "      <td>62</td>\n",
       "      <td>6200</td>\n",
       "      <td>North</td>\n",
       "    </tr>\n",
       "    <tr>\n",
       "      <th>144</th>\n",
       "      <td>2022</td>\n",
       "      <td>Oct</td>\n",
       "      <td>Electronics</td>\n",
       "      <td>video</td>\n",
       "      <td>Top</td>\n",
       "      <td>77000</td>\n",
       "      <td>1850</td>\n",
       "      <td>0.024</td>\n",
       "      <td>77</td>\n",
       "      <td>7700</td>\n",
       "      <td>West</td>\n",
       "    </tr>\n",
       "    <tr>\n",
       "      <th>145</th>\n",
       "      <td>2022</td>\n",
       "      <td>Nov</td>\n",
       "      <td>Clothing</td>\n",
       "      <td>display</td>\n",
       "      <td>Side</td>\n",
       "      <td>58000</td>\n",
       "      <td>1380</td>\n",
       "      <td>0.0238</td>\n",
       "      <td>58</td>\n",
       "      <td>5800</td>\n",
       "      <td>East</td>\n",
       "    </tr>\n",
       "    <tr>\n",
       "      <th>146</th>\n",
       "      <td>2022</td>\n",
       "      <td>Dec</td>\n",
       "      <td>Beauty</td>\n",
       "      <td>video</td>\n",
       "      <td>Bottom</td>\n",
       "      <td>70000</td>\n",
       "      <td>1680</td>\n",
       "      <td>0.024</td>\n",
       "      <td>70</td>\n",
       "      <td>7000</td>\n",
       "      <td>South</td>\n",
       "    </tr>\n",
       "  </tbody>\n",
       "</table>\n",
       "</div>"
      ],
      "text/plain": [
       "    Data Description : The dataset is designed to simulate a relationship between advertising variables over time, allowing for analysis and exploration of patterns and trends in advertising performance  \\\n",
       "142                                               2022                                                                                                                                                       \n",
       "143                                               2022                                                                                                                                                       \n",
       "144                                               2022                                                                                                                                                       \n",
       "145                                               2022                                                                                                                                                       \n",
       "146                                               2022                                                                                                                                                       \n",
       "\n",
       "    Unnamed: 1   Unnamed: 2 Unnamed: 3 Unnamed: 4 Unnamed: 5 Unnamed: 6  \\\n",
       "142        Aug     Clothing      video       Side      48000       1140   \n",
       "143        Sep       Beauty    display     bottom      62000       1500   \n",
       "144        Oct  Electronics      video        Top      77000       1850   \n",
       "145        Nov     Clothing    display       Side      58000       1380   \n",
       "146        Dec       Beauty      video     Bottom      70000       1680   \n",
       "\n",
       "    Unnamed: 7 Unnamed: 8 Unnamed: 9 Unnamed: 10  \n",
       "142     0.0238         48       4800       South  \n",
       "143     0.0242         62       6200       North  \n",
       "144      0.024         77       7700        West  \n",
       "145     0.0238         58       5800        East  \n",
       "146      0.024         70       7000       South  "
      ]
     },
     "execution_count": 5,
     "metadata": {
     },
     "output_type": "execute_result"
    }
   ],
   "source": [
    "#display the head and tail\n",
    "display(dataFrame.head(), dataFrame.tail())"
   ]
  },
  {
   "cell_type": "markdown",
   "metadata": {
    "collapsed": false
   },
   "source": [
    "##### *Looks like there are a couple of descriptive rows that should be skipped so that we could see variable names as the headers.*"
   ]
  },
  {
   "cell_type": "code",
   "execution_count": 6,
   "metadata": {
    "collapsed": false
   },
   "outputs": [
    {
     "data": {
      "text/html": [
       "<div>\n",
       "<style scoped>\n",
       "    .dataframe tbody tr th:only-of-type {\n",
       "        vertical-align: middle;\n",
       "    }\n",
       "\n",
       "    .dataframe tbody tr th {\n",
       "        vertical-align: top;\n",
       "    }\n",
       "\n",
       "    .dataframe thead th {\n",
       "        text-align: right;\n",
       "    }\n",
       "</style>\n",
       "<table border=\"1\" class=\"dataframe\">\n",
       "  <thead>\n",
       "    <tr style=\"text-align: right;\">\n",
       "      <th></th>\n",
       "      <th>YEAR</th>\n",
       "      <th>MONTH</th>\n",
       "      <th>**Product_Type</th>\n",
       "      <th>Ad_Type</th>\n",
       "      <th>Ad_Slot</th>\n",
       "      <th>the number of times the ad was viewed</th>\n",
       "      <th>Clicks</th>\n",
       "      <th>CTR</th>\n",
       "      <th>SALESSS</th>\n",
       "      <th>Revenue</th>\n",
       "      <th>Region</th>\n",
       "    </tr>\n",
       "  </thead>\n",
       "  <tbody>\n",
       "    <tr>\n",
       "      <th>0</th>\n",
       "      <td>2011</td>\n",
       "      <td>Jan</td>\n",
       "      <td>Electronics</td>\n",
       "      <td>Display</td>\n",
       "      <td>Top</td>\n",
       "      <td>50000</td>\n",
       "      <td>1200.0</td>\n",
       "      <td>0.024</td>\n",
       "      <td>50.0</td>\n",
       "      <td>5000.0</td>\n",
       "      <td>North</td>\n",
       "    </tr>\n",
       "    <tr>\n",
       "      <th>1</th>\n",
       "      <td>2011</td>\n",
       "      <td>Feb</td>\n",
       "      <td>Clothing</td>\n",
       "      <td>Video</td>\n",
       "      <td>Side</td>\n",
       "      <td>35000</td>\n",
       "      <td>800.0</td>\n",
       "      <td>0.0229</td>\n",
       "      <td>30.0</td>\n",
       "      <td>3000.0</td>\n",
       "      <td>\"West\"</td>\n",
       "    </tr>\n",
       "    <tr>\n",
       "      <th>2</th>\n",
       "      <td>2011</td>\n",
       "      <td>Mar</td>\n",
       "      <td>Beauty</td>\n",
       "      <td>Display</td>\n",
       "      <td>Bottom</td>\n",
       "      <td>45000</td>\n",
       "      <td>1100.0</td>\n",
       "      <td>0.0244</td>\n",
       "      <td>40.0</td>\n",
       "      <td>4000.0</td>\n",
       "      <td>East</td>\n",
       "    </tr>\n",
       "    <tr>\n",
       "      <th>3</th>\n",
       "      <td>2011</td>\n",
       "      <td>Apr</td>\n",
       "      <td>Electronics</td>\n",
       "      <td>Video</td>\n",
       "      <td>Top</td>\n",
       "      <td>60000</td>\n",
       "      <td>1500.0</td>\n",
       "      <td>2,5%</td>\n",
       "      <td>60.0</td>\n",
       "      <td>6000.0</td>\n",
       "      <td>South</td>\n",
       "    </tr>\n",
       "    <tr>\n",
       "      <th>4</th>\n",
       "      <td>2011</td>\n",
       "      <td>May</td>\n",
       "      <td>Clothing</td>\n",
       "      <td>Display</td>\n",
       "      <td>Side</td>\n",
       "      <td>40000</td>\n",
       "      <td>NaN</td>\n",
       "      <td>0.025</td>\n",
       "      <td>35.0</td>\n",
       "      <td>3500.0</td>\n",
       "      <td>North</td>\n",
       "    </tr>\n",
       "  </tbody>\n",
       "</table>\n",
       "</div>"
      ],
      "text/plain": [
       "   YEAR MONTH **Product_Type  Ad_Type Ad_Slot  \\\n",
       "0  2011   Jan    Electronics  Display     Top   \n",
       "1  2011   Feb       Clothing    Video    Side   \n",
       "2  2011   Mar         Beauty  Display  Bottom   \n",
       "3  2011   Apr    Electronics    Video     Top   \n",
       "4  2011   May       Clothing  Display    Side   \n",
       "\n",
       "   the number of times the ad was viewed  Clicks     CTR  SALESSS  Revenue  \\\n",
       "0                                  50000  1200.0   0.024     50.0   5000.0   \n",
       "1                                  35000   800.0  0.0229     30.0   3000.0   \n",
       "2                                  45000  1100.0  0.0244     40.0   4000.0   \n",
       "3                                  60000  1500.0    2,5%     60.0   6000.0   \n",
       "4                                  40000     NaN   0.025     35.0   3500.0   \n",
       "\n",
       "   Region  \n",
       "0   North  \n",
       "1  \"West\"  \n",
       "2    East  \n",
       "3   South  \n",
       "4   North  "
      ]
     },
     "execution_count": 6,
     "metadata": {
     },
     "output_type": "execute_result"
    },
    {
     "data": {
      "text/html": [
       "<div>\n",
       "<style scoped>\n",
       "    .dataframe tbody tr th:only-of-type {\n",
       "        vertical-align: middle;\n",
       "    }\n",
       "\n",
       "    .dataframe tbody tr th {\n",
       "        vertical-align: top;\n",
       "    }\n",
       "\n",
       "    .dataframe thead th {\n",
       "        text-align: right;\n",
       "    }\n",
       "</style>\n",
       "<table border=\"1\" class=\"dataframe\">\n",
       "  <thead>\n",
       "    <tr style=\"text-align: right;\">\n",
       "      <th></th>\n",
       "      <th>YEAR</th>\n",
       "      <th>MONTH</th>\n",
       "      <th>**Product_Type</th>\n",
       "      <th>Ad_Type</th>\n",
       "      <th>Ad_Slot</th>\n",
       "      <th>the number of times the ad was viewed</th>\n",
       "      <th>Clicks</th>\n",
       "      <th>CTR</th>\n",
       "      <th>SALESSS</th>\n",
       "      <th>Revenue</th>\n",
       "      <th>Region</th>\n",
       "    </tr>\n",
       "  </thead>\n",
       "  <tbody>\n",
       "    <tr>\n",
       "      <th>140</th>\n",
       "      <td>2022</td>\n",
       "      <td>Aug</td>\n",
       "      <td>Clothing</td>\n",
       "      <td>video</td>\n",
       "      <td>Side</td>\n",
       "      <td>48000</td>\n",
       "      <td>1140.0</td>\n",
       "      <td>0.0238</td>\n",
       "      <td>48.0</td>\n",
       "      <td>4800.0</td>\n",
       "      <td>South</td>\n",
       "    </tr>\n",
       "    <tr>\n",
       "      <th>141</th>\n",
       "      <td>2022</td>\n",
       "      <td>Sep</td>\n",
       "      <td>Beauty</td>\n",
       "      <td>display</td>\n",
       "      <td>bottom</td>\n",
       "      <td>62000</td>\n",
       "      <td>1500.0</td>\n",
       "      <td>0.0242</td>\n",
       "      <td>62.0</td>\n",
       "      <td>6200.0</td>\n",
       "      <td>North</td>\n",
       "    </tr>\n",
       "    <tr>\n",
       "      <th>142</th>\n",
       "      <td>2022</td>\n",
       "      <td>Oct</td>\n",
       "      <td>Electronics</td>\n",
       "      <td>video</td>\n",
       "      <td>Top</td>\n",
       "      <td>77000</td>\n",
       "      <td>1850.0</td>\n",
       "      <td>0.024</td>\n",
       "      <td>77.0</td>\n",
       "      <td>7700.0</td>\n",
       "      <td>West</td>\n",
       "    </tr>\n",
       "    <tr>\n",
       "      <th>143</th>\n",
       "      <td>2022</td>\n",
       "      <td>Nov</td>\n",
       "      <td>Clothing</td>\n",
       "      <td>display</td>\n",
       "      <td>Side</td>\n",
       "      <td>58000</td>\n",
       "      <td>1380.0</td>\n",
       "      <td>0.0238</td>\n",
       "      <td>58.0</td>\n",
       "      <td>5800.0</td>\n",
       "      <td>East</td>\n",
       "    </tr>\n",
       "    <tr>\n",
       "      <th>144</th>\n",
       "      <td>2022</td>\n",
       "      <td>Dec</td>\n",
       "      <td>Beauty</td>\n",
       "      <td>video</td>\n",
       "      <td>Bottom</td>\n",
       "      <td>70000</td>\n",
       "      <td>1680.0</td>\n",
       "      <td>0.024</td>\n",
       "      <td>70.0</td>\n",
       "      <td>7000.0</td>\n",
       "      <td>South</td>\n",
       "    </tr>\n",
       "  </tbody>\n",
       "</table>\n",
       "</div>"
      ],
      "text/plain": [
       "     YEAR MONTH **Product_Type  Ad_Type Ad_Slot  \\\n",
       "140  2022   Aug       Clothing    video    Side   \n",
       "141  2022   Sep         Beauty  display  bottom   \n",
       "142  2022   Oct    Electronics    video     Top   \n",
       "143  2022   Nov       Clothing  display    Side   \n",
       "144  2022   Dec         Beauty    video  Bottom   \n",
       "\n",
       "     the number of times the ad was viewed  Clicks     CTR  SALESSS  Revenue  \\\n",
       "140                                  48000  1140.0  0.0238     48.0   4800.0   \n",
       "141                                  62000  1500.0  0.0242     62.0   6200.0   \n",
       "142                                  77000  1850.0   0.024     77.0   7700.0   \n",
       "143                                  58000  1380.0  0.0238     58.0   5800.0   \n",
       "144                                  70000  1680.0   0.024     70.0   7000.0   \n",
       "\n",
       "    Region  \n",
       "140  South  \n",
       "141  North  \n",
       "142   West  \n",
       "143   East  \n",
       "144  South  "
      ]
     },
     "execution_count": 6,
     "metadata": {
     },
     "output_type": "execute_result"
    }
   ],
   "source": [
    "#Since the first 2 rows are void of meaningful data, they are skipped.\n",
    "dataFrame = pd.read_excel('Advertising_Sales.xlsx', skiprows = 2)\n",
    "\n",
    "display(dataFrame.head(), dataFrame.tail())"
   ]
  },
  {
   "cell_type": "markdown",
   "metadata": {
    "collapsed": false
   },
   "source": [
    "##### *Column names should be fixed. Also, values should be unified on object type columns.*\n",
    "\n"
   ]
  },
  {
   "cell_type": "code",
   "execution_count": 7,
   "metadata": {
    "collapsed": false
   },
   "outputs": [
    {
     "data": {
      "text/html": [
       "<div>\n",
       "<style scoped>\n",
       "    .dataframe tbody tr th:only-of-type {\n",
       "        vertical-align: middle;\n",
       "    }\n",
       "\n",
       "    .dataframe tbody tr th {\n",
       "        vertical-align: top;\n",
       "    }\n",
       "\n",
       "    .dataframe thead th {\n",
       "        text-align: right;\n",
       "    }\n",
       "</style>\n",
       "<table border=\"1\" class=\"dataframe\">\n",
       "  <thead>\n",
       "    <tr style=\"text-align: right;\">\n",
       "      <th></th>\n",
       "      <th>count</th>\n",
       "      <th>mean</th>\n",
       "      <th>std</th>\n",
       "      <th>min</th>\n",
       "      <th>25%</th>\n",
       "      <th>50%</th>\n",
       "      <th>75%</th>\n",
       "      <th>max</th>\n",
       "    </tr>\n",
       "  </thead>\n",
       "  <tbody>\n",
       "    <tr>\n",
       "      <th>YEAR</th>\n",
       "      <td>145.0</td>\n",
       "      <td>2016.538</td>\n",
       "      <td>3.482</td>\n",
       "      <td>2011.0</td>\n",
       "      <td>2014.0</td>\n",
       "      <td>2017.0</td>\n",
       "      <td>2020.0</td>\n",
       "      <td>2022.0</td>\n",
       "    </tr>\n",
       "    <tr>\n",
       "      <th>the number of times the ad was viewed</th>\n",
       "      <td>145.0</td>\n",
       "      <td>54420.690</td>\n",
       "      <td>10951.705</td>\n",
       "      <td>32000.0</td>\n",
       "      <td>46000.0</td>\n",
       "      <td>55000.0</td>\n",
       "      <td>62000.0</td>\n",
       "      <td>80000.0</td>\n",
       "    </tr>\n",
       "    <tr>\n",
       "      <th>Clicks</th>\n",
       "      <td>144.0</td>\n",
       "      <td>1292.361</td>\n",
       "      <td>345.721</td>\n",
       "      <td>-1180.0</td>\n",
       "      <td>1100.0</td>\n",
       "      <td>1310.0</td>\n",
       "      <td>1505.0</td>\n",
       "      <td>1950.0</td>\n",
       "    </tr>\n",
       "    <tr>\n",
       "      <th>SALESSS</th>\n",
       "      <td>143.0</td>\n",
       "      <td>53.888</td>\n",
       "      <td>11.652</td>\n",
       "      <td>28.0</td>\n",
       "      <td>45.5</td>\n",
       "      <td>54.0</td>\n",
       "      <td>62.0</td>\n",
       "      <td>80.0</td>\n",
       "    </tr>\n",
       "    <tr>\n",
       "      <th>Revenue</th>\n",
       "      <td>144.0</td>\n",
       "      <td>5397.917</td>\n",
       "      <td>1160.267</td>\n",
       "      <td>2800.0</td>\n",
       "      <td>4575.0</td>\n",
       "      <td>5500.0</td>\n",
       "      <td>6200.0</td>\n",
       "      <td>8000.0</td>\n",
       "    </tr>\n",
       "  </tbody>\n",
       "</table>\n",
       "</div>"
      ],
      "text/plain": [
       "                                       count       mean        std      min  \\\n",
       "YEAR                                   145.0   2016.538      3.482   2011.0   \n",
       "the number of times the ad was viewed  145.0  54420.690  10951.705  32000.0   \n",
       "Clicks                                 144.0   1292.361    345.721  -1180.0   \n",
       "SALESSS                                143.0     53.888     11.652     28.0   \n",
       "Revenue                                144.0   5397.917   1160.267   2800.0   \n",
       "\n",
       "                                           25%      50%      75%      max  \n",
       "YEAR                                    2014.0   2017.0   2020.0   2022.0  \n",
       "the number of times the ad was viewed  46000.0  55000.0  62000.0  80000.0  \n",
       "Clicks                                  1100.0   1310.0   1505.0   1950.0  \n",
       "SALESSS                                   45.5     54.0     62.0     80.0  \n",
       "Revenue                                 4575.0   5500.0   6200.0   8000.0  "
      ]
     },
     "execution_count": 7,
     "metadata": {
     },
     "output_type": "execute_result"
    }
   ],
   "source": [
    "dataFrame.describe().transpose().round(3) # 3 decimal places so it looks nicer"
   ]
  },
  {
   "cell_type": "markdown",
   "metadata": {
    "collapsed": false
   },
   "source": [
    "##### *There is a negative value in \"Clicks\", which is odd considering the nature of the variable. Other than that, numerical type columns seem to have consistent values.*"
   ]
  },
  {
   "cell_type": "code",
   "execution_count": 8,
   "metadata": {
    "collapsed": false
   },
   "outputs": [
    {
     "name": "stdout",
     "output_type": "stream",
     "text": [
      "<class 'pandas.core.frame.DataFrame'>\n",
      "RangeIndex: 145 entries, 0 to 144\n",
      "Data columns (total 11 columns):\n",
      " #   Column                                 Non-Null Count  Dtype  \n",
      "---  ------                                 --------------  -----  \n",
      " 0   YEAR                                   145 non-null    int64  \n",
      " 1   MONTH                                  145 non-null    object \n",
      " 2   **Product_Type                         145 non-null    object \n",
      " 3   Ad_Type                                145 non-null    object \n",
      " 4   Ad_Slot                                145 non-null    object \n",
      " 5   the number of times the ad was viewed  145 non-null    int64  \n",
      " 6   Clicks                                 144 non-null    float64\n",
      " 7   CTR                                    145 non-null    object \n",
      " 8   SALESSS                                143 non-null    float64\n",
      " 9   Revenue                                144 non-null    float64\n",
      " 10  Region                                 145 non-null    object \n",
      "dtypes: float64(3), int64(2), object(6)\n",
      "memory usage: 12.6+ KB\n"
     ]
    }
   ],
   "source": [
    "#display info about the dataframe\n",
    "dataFrame.info()"
   ]
  },
  {
   "cell_type": "markdown",
   "metadata": {
    "collapsed": false
   },
   "source": [
    "##### *According to the data description, \"the number of times the ad was viewed\" should be renamed \"Impressions\".*\n",
    "\n",
    "#####  *The \"CTR\" column is described as \"Calculated as Clicks/Impressions * 100, represents the percentage of viewers who clicked on the ad.\" in the data description, which would indicate a float-type variable.*\n",
    "\n",
    "##### *However, previous cell tells us that CTR column is stored as object-type.*\n",
    "\n",
    "##### *According to the data description, \"Impressions\", \"Clicks\" and \"Revenue\" variables are continuous, which are better represented as floats. However, \"Impressions\" is in int type. Likewise, \"Sales\" is described as a discrete variable, which is in int type and should be float by the same logic. (NA values should be filled before conversion, if there are any.)*\n",
    "\n",
    "##### *\"YEAR\" and \"MONTH\" should be merged under a \"Date\" column with a ```datetime``` dtype.*\n",
    "\n",
    "##### *Other columns look consistent with their dtypes and descriptions.*\n",
    "\n"
   ]
  },
  {
   "cell_type": "code",
   "execution_count": 9,
   "metadata": {
    "collapsed": false
   },
   "outputs": [
    {
     "data": {
      "text/plain": [
       "0     0.024\n",
       "1    0.0229\n",
       "2    0.0244\n",
       "3      2,5%\n",
       "4     0.025\n",
       "5    0.0236\n",
       "6     0.024\n",
       "7    0.0234\n",
       "8     0.025\n",
       "Name: CTR, dtype: object"
      ]
     },
     "execution_count": 9,
     "metadata": {
     },
     "output_type": "execute_result"
    },
    {
     "data": {
      "text/plain": [
       "136    0.0235\n",
       "137    0.0236\n",
       "138    0.0241\n",
       "139    0.0241\n",
       "140    0.0238\n",
       "141    0.0242\n",
       "142     0.024\n",
       "143    0.0238\n",
       "144     0.024\n",
       "Name: CTR, dtype: object"
      ]
     },
     "execution_count": 9,
     "metadata": {
     },
     "output_type": "execute_result"
    }
   ],
   "source": [
    "# let's take a closer look at \"CTR\"\n",
    "display(dataFrame[\"CTR\"].head(9), dataFrame[\"CTR\"].tail(9))"
   ]
  },
  {
   "cell_type": "markdown",
   "metadata": {
    "collapsed": false
   },
   "source": [
    "#####  *It looks like that there are some mixed value types (varying decimal places for floats, and strings like %) in the column.*"
   ]
  },
  {
   "cell_type": "markdown",
   "metadata": {
    "collapsed": false
   },
   "source": [
    "##### *Check for duplicates and unique values (will check again later).*"
   ]
  },
  {
   "cell_type": "code",
   "execution_count": 10,
   "metadata": {
    "collapsed": false
   },
   "outputs": [
    {
     "data": {
      "text/plain": [
       "1"
      ]
     },
     "execution_count": 10,
     "metadata": {
     },
     "output_type": "execute_result"
    },
    {
     "data": {
      "text/html": [
       "<div>\n",
       "<style scoped>\n",
       "    .dataframe tbody tr th:only-of-type {\n",
       "        vertical-align: middle;\n",
       "    }\n",
       "\n",
       "    .dataframe tbody tr th {\n",
       "        vertical-align: top;\n",
       "    }\n",
       "\n",
       "    .dataframe thead th {\n",
       "        text-align: right;\n",
       "    }\n",
       "</style>\n",
       "<table border=\"1\" class=\"dataframe\">\n",
       "  <thead>\n",
       "    <tr style=\"text-align: right;\">\n",
       "      <th></th>\n",
       "      <th>YEAR</th>\n",
       "      <th>MONTH</th>\n",
       "      <th>**Product_Type</th>\n",
       "      <th>Ad_Type</th>\n",
       "      <th>Ad_Slot</th>\n",
       "      <th>the number of times the ad was viewed</th>\n",
       "      <th>Clicks</th>\n",
       "      <th>CTR</th>\n",
       "      <th>SALESSS</th>\n",
       "      <th>Revenue</th>\n",
       "      <th>Region</th>\n",
       "    </tr>\n",
       "  </thead>\n",
       "  <tbody>\n",
       "    <tr>\n",
       "      <th>138</th>\n",
       "      <td>2022</td>\n",
       "      <td>Jul</td>\n",
       "      <td>Electronics</td>\n",
       "      <td>Display</td>\n",
       "      <td>Top</td>\n",
       "      <td>67000</td>\n",
       "      <td>1620.0</td>\n",
       "      <td>0.0241</td>\n",
       "      <td>67.0</td>\n",
       "      <td>6700.0</td>\n",
       "      <td>East</td>\n",
       "    </tr>\n",
       "    <tr>\n",
       "      <th>139</th>\n",
       "      <td>2022</td>\n",
       "      <td>Jul</td>\n",
       "      <td>Electronics</td>\n",
       "      <td>Display</td>\n",
       "      <td>Top</td>\n",
       "      <td>67000</td>\n",
       "      <td>1620.0</td>\n",
       "      <td>0.0241</td>\n",
       "      <td>67.0</td>\n",
       "      <td>6700.0</td>\n",
       "      <td>East</td>\n",
       "    </tr>\n",
       "  </tbody>\n",
       "</table>\n",
       "</div>"
      ],
      "text/plain": [
       "     YEAR MONTH **Product_Type   Ad_Type Ad_Slot  \\\n",
       "138  2022   Jul    Electronics   Display     Top   \n",
       "139  2022   Jul    Electronics   Display     Top   \n",
       "\n",
       "     the number of times the ad was viewed  Clicks     CTR  SALESSS  Revenue  \\\n",
       "138                                  67000  1620.0  0.0241     67.0   6700.0   \n",
       "139                                  67000  1620.0  0.0241     67.0   6700.0   \n",
       "\n",
       "    Region  \n",
       "138   East  \n",
       "139   East  "
      ]
     },
     "execution_count": 10,
     "metadata": {
     },
     "output_type": "execute_result"
    }
   ],
   "source": [
    "#examine duplicates\n",
    "display(dataFrame.duplicated().sum(), dataFrame[dataFrame.duplicated(keep=False)])"
   ]
  },
  {
   "cell_type": "markdown",
   "metadata": {
    "collapsed": false
   },
   "source": [
    "##### *It seems like that there is one duplicate in this dataset, however, it seems unlikely for this dataset to have all of these different values to be the same, that is probably why there is only one. Thus, duplicates should be dropped for a cleaner dataset.*\n",
    "\n"
   ]
  },
  {
   "cell_type": "code",
   "execution_count": 11,
   "metadata": {
    "collapsed": false
   },
   "outputs": [
    {
     "data": {
      "text/plain": [
       "0"
      ]
     },
     "execution_count": 11,
     "metadata": {
     },
     "output_type": "execute_result"
    }
   ],
   "source": [
    "dataFrame = dataFrame.drop_duplicates() #Drop duplicated rows\n",
    "\n",
    "dataFrame.duplicated().sum() #Show number of duplicated rows to be sure that there are no duplicated rows"
   ]
  },
  {
   "cell_type": "code",
   "execution_count": 12,
   "metadata": {
    "collapsed": false
   },
   "outputs": [
    {
     "data": {
      "text/plain": [
       "YEAR                                     12\n",
       "MONTH                                    17\n",
       "**Product_Type                           10\n",
       "Ad_Type                                   6\n",
       "Ad_Slot                                   7\n",
       "the number of times the ad was viewed    46\n",
       "Clicks                                   62\n",
       "CTR                                      24\n",
       "SALESSS                                  47\n",
       "Revenue                                  47\n",
       "Region                                   14\n",
       "dtype: int64"
      ]
     },
     "execution_count": 12,
     "metadata": {
     },
     "output_type": "execute_result"
    }
   ],
   "source": [
    "#check for the number of unique values\n",
    "dataFrame.nunique()"
   ]
  },
  {
   "cell_type": "markdown",
   "metadata": {
    "collapsed": false
   },
   "source": [
    "##### *It looks like we have some non-unique values. We will check this later as we further clean the dataset.*"
   ]
  },
  {
   "cell_type": "code",
   "execution_count": 13,
   "metadata": {
    "collapsed": false
   },
   "outputs": [
    {
     "name": "stdout",
     "output_type": "stream",
     "text": [
      "YEAR  has total of  0  NA/Null values\n",
      "NA/Null percentage of  YEAR  is  0 % \n",
      "\n",
      "MONTH  has total of  0  NA/Null values\n",
      "NA/Null percentage of  MONTH  is  0 % \n",
      "\n",
      "**Product_Type  has total of  0  NA/Null values\n",
      "NA/Null percentage of  **Product_Type  is  0 % \n",
      "\n",
      "Ad_Type  has total of  0  NA/Null values\n",
      "NA/Null percentage of  Ad_Type  is  0 % \n",
      "\n",
      "Ad_Slot  has total of  0  NA/Null values\n",
      "NA/Null percentage of  Ad_Slot  is  0 % \n",
      "\n",
      "the number of times the ad was viewed  has total of  0  NA/Null values\n",
      "NA/Null percentage of  the number of times the ad was viewed  is  0 % \n",
      "\n",
      "Clicks  has total of  1  NA/Null values\n",
      "NA/Null percentage of  Clicks  is  0 % \n",
      "\n",
      "CTR  has total of  0  NA/Null values\n",
      "NA/Null percentage of  CTR  is  0 % \n",
      "\n",
      "SALESSS  has total of  2  NA/Null values\n",
      "NA/Null percentage of  SALESSS  is  1 % \n",
      "\n",
      "Revenue  has total of  1  NA/Null values\n",
      "NA/Null percentage of  Revenue  is  0 % \n",
      "\n",
      "Region  has total of  0  NA/Null values\n",
      "NA/Null percentage of  Region  is  0 % \n",
      "\n"
     ]
    }
   ],
   "source": [
    "# calculate the amount and percentage of NA/Null values on each column using our custom function, naValues\n",
    "naValues(dataFrame)"
   ]
  },
  {
   "cell_type": "markdown",
   "metadata": {
    "collapsed": false
   },
   "source": [
    "##### *There are only a few Null values on Clicks\\(1\\), Sales\\(2\\) and Revenue\\(1\\), which is neat. Considering they are all numerical variables, this will make it easier to fill them later on and we will not be losing any data points by dropping any column.*\n",
    "\n",
    "##### *It should be kept in mind that while \"Impressions\" has no missing values, \"Sales\" has two. They should be filled before conversion.*\n",
    "\n"
   ]
  },
  {
   "cell_type": "markdown",
   "metadata": {
    "collapsed": false
   },
   "source": [
    "##### *To fill the empty values in \"Clicks\", it is better to use \"CTR\" and \"Impressions\" columns instead of using median; as \"CTR\" is created using \"(Clicks/Impressions)&ast;100\" and both \"CTR\" and \"Impressions\" are void of NA values. It is possible to get the original values in \"Clicks\" this way.*\n",
    "\n",
    "#####  *The values should be converted to strings for good measure, stripped of any symbols and whitespaces, and converted to floats back again, with decimal points standardized. Also \"Impressions\" should be float per data description.*\n",
    "\n",
    "##### *Then, \"Clicks\" should be recalculated by applying \"(CTR&ast;Impressions)/100\".*\n",
    "\n"
   ]
  },
  {
   "cell_type": "markdown",
   "metadata": {
    "collapsed": false
   },
   "source": [
    "##### *We have 3 float-type columns, 2 integer-type and 5 object-type columns. Data seems to be imported fine. Column headers are values. We don't have multiple variables in a column. Both rows and columns hold values. Every column has the same unit in itself.*\n",
    "\n",
    "##### *Column names look broken and weird. Let's fix that.*\n",
    "\n"
   ]
  },
  {
   "cell_type": "markdown",
   "metadata": {
    "collapsed": false
   },
   "source": [
    "## **Make title names more appropriate**\n",
    "\n"
   ]
  },
  {
   "cell_type": "code",
   "execution_count": 14,
   "metadata": {
    "collapsed": false
   },
   "outputs": [
    {
     "data": {
      "text/html": [
       "<div>\n",
       "<style scoped>\n",
       "    .dataframe tbody tr th:only-of-type {\n",
       "        vertical-align: middle;\n",
       "    }\n",
       "\n",
       "    .dataframe tbody tr th {\n",
       "        vertical-align: top;\n",
       "    }\n",
       "\n",
       "    .dataframe thead th {\n",
       "        text-align: right;\n",
       "    }\n",
       "</style>\n",
       "<table border=\"1\" class=\"dataframe\">\n",
       "  <thead>\n",
       "    <tr style=\"text-align: right;\">\n",
       "      <th></th>\n",
       "      <th>Year</th>\n",
       "      <th>Month</th>\n",
       "      <th>**Product_Type</th>\n",
       "      <th>Ad_Type</th>\n",
       "      <th>Ad_Slot</th>\n",
       "      <th>The Number Of Times The Ad Was Viewed</th>\n",
       "      <th>Clicks</th>\n",
       "      <th>Ctr</th>\n",
       "      <th>Salesss</th>\n",
       "      <th>Revenue</th>\n",
       "      <th>Region</th>\n",
       "    </tr>\n",
       "  </thead>\n",
       "  <tbody>\n",
       "    <tr>\n",
       "      <th>0</th>\n",
       "      <td>2011</td>\n",
       "      <td>Jan</td>\n",
       "      <td>Electronics</td>\n",
       "      <td>Display</td>\n",
       "      <td>Top</td>\n",
       "      <td>50000</td>\n",
       "      <td>1200.0</td>\n",
       "      <td>0.024</td>\n",
       "      <td>50.0</td>\n",
       "      <td>5000.0</td>\n",
       "      <td>North</td>\n",
       "    </tr>\n",
       "    <tr>\n",
       "      <th>1</th>\n",
       "      <td>2011</td>\n",
       "      <td>Feb</td>\n",
       "      <td>Clothing</td>\n",
       "      <td>Video</td>\n",
       "      <td>Side</td>\n",
       "      <td>35000</td>\n",
       "      <td>800.0</td>\n",
       "      <td>0.0229</td>\n",
       "      <td>30.0</td>\n",
       "      <td>3000.0</td>\n",
       "      <td>\"West\"</td>\n",
       "    </tr>\n",
       "    <tr>\n",
       "      <th>2</th>\n",
       "      <td>2011</td>\n",
       "      <td>Mar</td>\n",
       "      <td>Beauty</td>\n",
       "      <td>Display</td>\n",
       "      <td>Bottom</td>\n",
       "      <td>45000</td>\n",
       "      <td>1100.0</td>\n",
       "      <td>0.0244</td>\n",
       "      <td>40.0</td>\n",
       "      <td>4000.0</td>\n",
       "      <td>East</td>\n",
       "    </tr>\n",
       "    <tr>\n",
       "      <th>3</th>\n",
       "      <td>2011</td>\n",
       "      <td>Apr</td>\n",
       "      <td>Electronics</td>\n",
       "      <td>Video</td>\n",
       "      <td>Top</td>\n",
       "      <td>60000</td>\n",
       "      <td>1500.0</td>\n",
       "      <td>2,5%</td>\n",
       "      <td>60.0</td>\n",
       "      <td>6000.0</td>\n",
       "      <td>South</td>\n",
       "    </tr>\n",
       "    <tr>\n",
       "      <th>4</th>\n",
       "      <td>2011</td>\n",
       "      <td>May</td>\n",
       "      <td>Clothing</td>\n",
       "      <td>Display</td>\n",
       "      <td>Side</td>\n",
       "      <td>40000</td>\n",
       "      <td>NaN</td>\n",
       "      <td>0.025</td>\n",
       "      <td>35.0</td>\n",
       "      <td>3500.0</td>\n",
       "      <td>North</td>\n",
       "    </tr>\n",
       "  </tbody>\n",
       "</table>\n",
       "</div>"
      ],
      "text/plain": [
       "   Year Month **Product_Type  Ad_Type Ad_Slot  \\\n",
       "0  2011   Jan    Electronics  Display     Top   \n",
       "1  2011   Feb       Clothing    Video    Side   \n",
       "2  2011   Mar         Beauty  Display  Bottom   \n",
       "3  2011   Apr    Electronics    Video     Top   \n",
       "4  2011   May       Clothing  Display    Side   \n",
       "\n",
       "   The Number Of Times The Ad Was Viewed  Clicks     Ctr  Salesss  Revenue  \\\n",
       "0                                  50000  1200.0   0.024     50.0   5000.0   \n",
       "1                                  35000   800.0  0.0229     30.0   3000.0   \n",
       "2                                  45000  1100.0  0.0244     40.0   4000.0   \n",
       "3                                  60000  1500.0    2,5%     60.0   6000.0   \n",
       "4                                  40000     NaN   0.025     35.0   3500.0   \n",
       "\n",
       "   Region  \n",
       "0   North  \n",
       "1  \"West\"  \n",
       "2    East  \n",
       "3   South  \n",
       "4   North  "
      ]
     },
     "execution_count": 14,
     "metadata": {
     },
     "output_type": "execute_result"
    }
   ],
   "source": [
    "#take the column names and turn them into capitalized titles\n",
    "dataFrame.columns = dataFrame.columns.str.title()\n",
    "dataFrame.head() #display titles to see changes"
   ]
  },
  {
   "cell_type": "code",
   "execution_count": 15,
   "metadata": {
    "collapsed": false
   },
   "outputs": [
    {
     "data": {
      "text/html": [
       "<div>\n",
       "<style scoped>\n",
       "    .dataframe tbody tr th:only-of-type {\n",
       "        vertical-align: middle;\n",
       "    }\n",
       "\n",
       "    .dataframe tbody tr th {\n",
       "        vertical-align: top;\n",
       "    }\n",
       "\n",
       "    .dataframe thead th {\n",
       "        text-align: right;\n",
       "    }\n",
       "</style>\n",
       "<table border=\"1\" class=\"dataframe\">\n",
       "  <thead>\n",
       "    <tr style=\"text-align: right;\">\n",
       "      <th></th>\n",
       "      <th>Year</th>\n",
       "      <th>Month</th>\n",
       "      <th>Product_Type</th>\n",
       "      <th>Ad_Type</th>\n",
       "      <th>Ad_Slot</th>\n",
       "      <th>Impressions</th>\n",
       "      <th>Clicks</th>\n",
       "      <th>Click_Rate</th>\n",
       "      <th>Sales</th>\n",
       "      <th>Revenue</th>\n",
       "      <th>Region</th>\n",
       "    </tr>\n",
       "  </thead>\n",
       "  <tbody>\n",
       "    <tr>\n",
       "      <th>0</th>\n",
       "      <td>2011</td>\n",
       "      <td>Jan</td>\n",
       "      <td>Electronics</td>\n",
       "      <td>Display</td>\n",
       "      <td>Top</td>\n",
       "      <td>50000</td>\n",
       "      <td>1200.0</td>\n",
       "      <td>0.024</td>\n",
       "      <td>50.0</td>\n",
       "      <td>5000.0</td>\n",
       "      <td>North</td>\n",
       "    </tr>\n",
       "    <tr>\n",
       "      <th>1</th>\n",
       "      <td>2011</td>\n",
       "      <td>Feb</td>\n",
       "      <td>Clothing</td>\n",
       "      <td>Video</td>\n",
       "      <td>Side</td>\n",
       "      <td>35000</td>\n",
       "      <td>800.0</td>\n",
       "      <td>0.0229</td>\n",
       "      <td>30.0</td>\n",
       "      <td>3000.0</td>\n",
       "      <td>\"West\"</td>\n",
       "    </tr>\n",
       "    <tr>\n",
       "      <th>2</th>\n",
       "      <td>2011</td>\n",
       "      <td>Mar</td>\n",
       "      <td>Beauty</td>\n",
       "      <td>Display</td>\n",
       "      <td>Bottom</td>\n",
       "      <td>45000</td>\n",
       "      <td>1100.0</td>\n",
       "      <td>0.0244</td>\n",
       "      <td>40.0</td>\n",
       "      <td>4000.0</td>\n",
       "      <td>East</td>\n",
       "    </tr>\n",
       "    <tr>\n",
       "      <th>3</th>\n",
       "      <td>2011</td>\n",
       "      <td>Apr</td>\n",
       "      <td>Electronics</td>\n",
       "      <td>Video</td>\n",
       "      <td>Top</td>\n",
       "      <td>60000</td>\n",
       "      <td>1500.0</td>\n",
       "      <td>2,5%</td>\n",
       "      <td>60.0</td>\n",
       "      <td>6000.0</td>\n",
       "      <td>South</td>\n",
       "    </tr>\n",
       "    <tr>\n",
       "      <th>4</th>\n",
       "      <td>2011</td>\n",
       "      <td>May</td>\n",
       "      <td>Clothing</td>\n",
       "      <td>Display</td>\n",
       "      <td>Side</td>\n",
       "      <td>40000</td>\n",
       "      <td>NaN</td>\n",
       "      <td>0.025</td>\n",
       "      <td>35.0</td>\n",
       "      <td>3500.0</td>\n",
       "      <td>North</td>\n",
       "    </tr>\n",
       "  </tbody>\n",
       "</table>\n",
       "</div>"
      ],
      "text/plain": [
       "   Year Month Product_Type  Ad_Type Ad_Slot  Impressions  Clicks Click_Rate  \\\n",
       "0  2011   Jan  Electronics  Display     Top        50000  1200.0      0.024   \n",
       "1  2011   Feb     Clothing    Video    Side        35000   800.0     0.0229   \n",
       "2  2011   Mar       Beauty  Display  Bottom        45000  1100.0     0.0244   \n",
       "3  2011   Apr  Electronics    Video     Top        60000  1500.0       2,5%   \n",
       "4  2011   May     Clothing  Display    Side        40000     NaN      0.025   \n",
       "\n",
       "   Sales  Revenue  Region  \n",
       "0   50.0   5000.0   North  \n",
       "1   30.0   3000.0  \"West\"  \n",
       "2   40.0   4000.0    East  \n",
       "3   60.0   6000.0   South  \n",
       "4   35.0   3500.0   North  "
      ]
     },
     "execution_count": 15,
     "metadata": {
     },
     "output_type": "execute_result"
    }
   ],
   "source": [
    "#rename all titles which should be renamed manually\n",
    "dataFrame = dataFrame.rename({\"**Product_Type\" : \"Product_Type\", 'The Number Of Times The Ad Was Viewed':'Impressions', 'Salesss':'Sales', \"Ctr\" : \"Click_Rate\"},axis='columns')\n",
    "dataFrame.head()"
   ]
  },
  {
   "cell_type": "markdown",
   "metadata": {
    "collapsed": false
   },
   "source": [
    "### **Tidying Object-Type Columns**\n",
    "\n"
   ]
  },
  {
   "cell_type": "code",
   "execution_count": 16,
   "metadata": {
    "collapsed": false
   },
   "outputs": [
    {
     "name": "stdout",
     "output_type": "stream",
     "text": [
      "Month\n",
      "Jan         12\n",
      "Jun         12\n",
      "Feb         12\n",
      "Aug         12\n",
      "Jul         12\n",
      "Sep         12\n",
      "May         12\n",
      "Apr         11\n",
      "Mar         11\n",
      "Nov         11\n",
      "Dec         11\n",
      "Oct         11\n",
      "October      1\n",
      "April        1\n",
      "November     1\n",
      "MARCH        1\n",
      "DECEMBER     1\n",
      "Name: count, dtype: int64 \n",
      "\n",
      "Product_Type\n",
      "Beauty          46\n",
      "Electronics     45\n",
      "Clothing        45\n",
      "clothing         2\n",
      "beauty           1\n",
      "electronics      1\n",
      " Beauty          1\n",
      " Electronics     1\n",
      " clothing        1\n",
      " electronics     1\n",
      "Name: count, dtype: int64 \n",
      "\n",
      "Ad_Type\n",
      "Display     69\n",
      "Video       68\n",
      "video        3\n",
      "display      2\n",
      " Video       1\n",
      " Display     1\n",
      "Name: count, dtype: int64 \n",
      "\n",
      "Ad_Slot\n",
      "Top       46\n",
      "Side      46\n",
      "Bottom    46\n",
      "Sİide      2\n",
      "bottom     2\n",
      "TOp        1\n",
      "top        1\n",
      "Name: count, dtype: int64 \n",
      "\n",
      "Click_Rate\n",
      "0.0241    14\n",
      "0.024     13\n",
      "0.0242    13\n",
      "0.0246    12\n",
      "0.0236    11\n",
      "0.0245    10\n",
      "0.0237    10\n",
      "0.0235     9\n",
      "0.0243     8\n",
      "0.0238     7\n",
      "0.0233     5\n",
      "0.0234     4\n",
      "0.023      4\n",
      "0.0244     4\n",
      "0.0239     4\n",
      "0.025      3\n",
      "0.0229     2\n",
      "0.0232     2\n",
      "0.0228     2\n",
      "0.0227     2\n",
      "0.0247     2\n",
      "2,4%       1\n",
      "2,38%      1\n",
      "2,5%       1\n",
      "Name: count, dtype: int64 \n",
      "\n",
      "Region\n",
      "North      34\n",
      "South      34\n",
      "East       33\n",
      "West       33\n",
      "\"West\"      1\n",
      "\"East\"      1\n",
      "\"South\"     1\n",
      "north       1\n",
      "west        1\n",
      "east        1\n",
      "south       1\n",
      "NRTH        1\n",
      "WEST        1\n",
      "EAST        1\n",
      "Name: count, dtype: int64 \n",
      "\n"
     ]
    }
   ],
   "source": [
    "#count the values for columns with object datatype\n",
    "for column in dataFrame.select_dtypes(include = 'object').columns:\n",
    "    print(dataFrame[column].value_counts(), \"\\n\")"
   ]
  },
  {
   "cell_type": "markdown",
   "metadata": {
    "collapsed": false
   },
   "source": [
    "##### *Before doing any cleaning on object types, \"Click_Rate\" column should be handled as it requires a type change, and applying object cleaning methods might corrupt data.*\n",
    "\n"
   ]
  },
  {
   "cell_type": "markdown",
   "metadata": {
    "collapsed": false
   },
   "source": [
    "#### **Re-Calculating \"Clicks\"**"
   ]
  },
  {
   "cell_type": "code",
   "execution_count": 17,
   "metadata": {
    "collapsed": false
   },
   "outputs": [
    {
     "data": {
      "text/plain": [
       "0    1200.0\n",
       "1     800.0\n",
       "2    1100.0\n",
       "3    1500.0\n",
       "4       NaN\n",
       "5    1300.0\n",
       "6    1150.0\n",
       "7     750.0\n",
       "8    1050.0\n",
       "9    1400.0\n",
       "Name: Clicks, dtype: float64"
      ]
     },
     "execution_count": 17,
     "metadata": {
     },
     "output_type": "execute_result"
    },
    {
     "data": {
      "text/plain": [
       "134    1560.0\n",
       "135    1950.0\n",
       "136    1340.0\n",
       "137    1700.0\n",
       "138    1620.0\n",
       "140    1140.0\n",
       "141    1500.0\n",
       "142    1850.0\n",
       "143    1380.0\n",
       "144    1680.0\n",
       "Name: Clicks, dtype: float64"
      ]
     },
     "execution_count": 17,
     "metadata": {
     },
     "output_type": "execute_result"
    },
    {
     "data": {
      "text/plain": [
       "count     143.000000\n",
       "mean     1290.069930\n",
       "std       345.837413\n",
       "min     -1180.000000\n",
       "25%      1100.000000\n",
       "50%      1300.000000\n",
       "75%      1500.000000\n",
       "max      1950.000000\n",
       "Name: Clicks, dtype: float64"
      ]
     },
     "execution_count": 17,
     "metadata": {
     },
     "output_type": "execute_result"
    }
   ],
   "source": [
    "display(dataFrame[\"Clicks\"].head(10), dataFrame[\"Clicks\"].tail(10), dataFrame[\"Clicks\"].describe()) # As reference"
   ]
  },
  {
   "cell_type": "code",
   "execution_count": 18,
   "metadata": {
    "collapsed": false
   },
   "outputs": [
    {
     "data": {
      "text/plain": [
       "0     0.024\n",
       "1    0.0229\n",
       "2    0.0244\n",
       "3      2,5%\n",
       "4     0.025\n",
       "5    0.0236\n",
       "6     0.024\n",
       "7    0.0234\n",
       "8     0.025\n",
       "9    0.0241\n",
       "Name: Click_Rate, dtype: object"
      ]
     },
     "execution_count": 18,
     "metadata": {
     },
     "output_type": "execute_result"
    },
    {
     "data": {
      "text/plain": [
       "134     0.024\n",
       "135    0.0244\n",
       "136    0.0235\n",
       "137    0.0236\n",
       "138    0.0241\n",
       "140    0.0238\n",
       "141    0.0242\n",
       "142     0.024\n",
       "143    0.0238\n",
       "144     0.024\n",
       "Name: Click_Rate, dtype: object"
      ]
     },
     "execution_count": 18,
     "metadata": {
     },
     "output_type": "execute_result"
    }
   ],
   "source": [
    "dataFrame[\"Click_Rate\"] = dataFrame[\"Click_Rate\"].astype(str) # Make sure we are working on strings as we will strip characters.\n",
    "\n",
    "display(dataFrame[\"Click_Rate\"].head(10), dataFrame[\"Click_Rate\"].tail(10))"
   ]
  },
  {
   "cell_type": "code",
   "execution_count": 19,
   "metadata": {
    "collapsed": false
   },
   "outputs": [
    {
     "data": {
      "text/plain": [
       "0     0.024\n",
       "1    0.0229\n",
       "2    0.0244\n",
       "3       2,5\n",
       "4     0.025\n",
       "5    0.0236\n",
       "6     0.024\n",
       "7    0.0234\n",
       "8     0.025\n",
       "9    0.0241\n",
       "Name: Click_Rate, dtype: object"
      ]
     },
     "execution_count": 19,
     "metadata": {
     },
     "output_type": "execute_result"
    },
    {
     "data": {
      "text/plain": [
       "134     0.024\n",
       "135    0.0244\n",
       "136    0.0235\n",
       "137    0.0236\n",
       "138    0.0241\n",
       "140    0.0238\n",
       "141    0.0242\n",
       "142     0.024\n",
       "143    0.0238\n",
       "144     0.024\n",
       "Name: Click_Rate, dtype: object"
      ]
     },
     "execution_count": 19,
     "metadata": {
     },
     "output_type": "execute_result"
    },
    {
     "data": {
      "text/plain": [
       "count        144\n",
       "unique        24\n",
       "top       0.0241\n",
       "freq          14\n",
       "Name: Click_Rate, dtype: object"
      ]
     },
     "execution_count": 19,
     "metadata": {
     },
     "output_type": "execute_result"
    }
   ],
   "source": [
    "dataFrame[\"Click_Rate\"] = dataFrame[\"Click_Rate\"].str.strip(\"%\") # remove any trailing or leading % signs\n",
    "\n",
    "display(dataFrame[\"Click_Rate\"].head(10), dataFrame[\"Click_Rate\"].tail(10), dataFrame[\"Click_Rate\"].describe())"
   ]
  },
  {
   "cell_type": "markdown",
   "metadata": {
    "collapsed": false
   },
   "source": [
    "##### *The decimal separator should be a dot, not a comma.*"
   ]
  },
  {
   "cell_type": "code",
   "execution_count": 20,
   "metadata": {
    "collapsed": false
   },
   "outputs": [
    {
     "data": {
      "text/plain": [
       "0     0.024\n",
       "1    0.0229\n",
       "2    0.0244\n",
       "3       2.5\n",
       "4     0.025\n",
       "5    0.0236\n",
       "6     0.024\n",
       "7    0.0234\n",
       "8     0.025\n",
       "9    0.0241\n",
       "Name: Click_Rate, dtype: object"
      ]
     },
     "execution_count": 20,
     "metadata": {
     },
     "output_type": "execute_result"
    },
    {
     "data": {
      "text/plain": [
       "134     0.024\n",
       "135    0.0244\n",
       "136    0.0235\n",
       "137    0.0236\n",
       "138    0.0241\n",
       "140    0.0238\n",
       "141    0.0242\n",
       "142     0.024\n",
       "143    0.0238\n",
       "144     0.024\n",
       "Name: Click_Rate, dtype: object"
      ]
     },
     "execution_count": 20,
     "metadata": {
     },
     "output_type": "execute_result"
    },
    {
     "data": {
      "text/plain": [
       "count        144\n",
       "unique        24\n",
       "top       0.0241\n",
       "freq          14\n",
       "Name: Click_Rate, dtype: object"
      ]
     },
     "execution_count": 20,
     "metadata": {
     },
     "output_type": "execute_result"
    }
   ],
   "source": [
    "dataFrame[\"Click_Rate\"] = dataFrame[\"Click_Rate\"].str.replace(\",\", \".\")\n",
    "display(dataFrame[\"Click_Rate\"].head(10), dataFrame[\"Click_Rate\"].tail(10), dataFrame[\"Click_Rate\"].describe())"
   ]
  },
  {
   "cell_type": "markdown",
   "metadata": {
    "collapsed": false
   },
   "source": [
    "##### *It does not make sense to have higher amount of data smaller than one, in one-hundreths, and a few ones larger than one, our data description tells that these values are percentages. Since we had values like \"2.5%\", we should make a demo calculation to see the expected range:*\n",
    "\n"
   ]
  },
  {
   "cell_type": "code",
   "execution_count": 21,
   "metadata": {
    "collapsed": false
   },
   "outputs": [
    {
     "data": {
      "text/plain": [
       "0    2.400000\n",
       "1    2.285714\n",
       "2    2.444444\n",
       "3    2.500000\n",
       "4         NaN\n",
       "5    2.363636\n",
       "6    2.395833\n",
       "7    2.343750\n",
       "8    2.500000\n",
       "9    2.413793\n",
       "dtype: float64"
      ]
     },
     "execution_count": 21,
     "metadata": {
     },
     "output_type": "execute_result"
    },
    {
     "data": {
      "text/plain": [
       "134    2.400000\n",
       "135    2.437500\n",
       "136    2.350877\n",
       "137    2.361111\n",
       "138    2.417910\n",
       "140    2.375000\n",
       "141    2.419355\n",
       "142    2.402597\n",
       "143    2.379310\n",
       "144    2.400000\n",
       "dtype: float64"
      ]
     },
     "execution_count": 21,
     "metadata": {
     },
     "output_type": "execute_result"
    },
    {
     "data": {
      "text/plain": [
       "count    143.000000\n",
       "mean       2.394807\n",
       "std        0.050096\n",
       "min        2.266667\n",
       "25%        2.361111\n",
       "50%        2.400000\n",
       "75%        2.427521\n",
       "max        2.500000\n",
       "dtype: float64"
      ]
     },
     "execution_count": 21,
     "metadata": {
     },
     "output_type": "execute_result"
    }
   ],
   "source": [
    "demo = (dataFrame['Clicks'] / dataFrame['Impressions']) * 100\n",
    "demo = demo.abs() # to rule out negative values\n",
    "display(demo.head(10), demo.tail(10), demo.describe())"
   ]
  },
  {
   "cell_type": "markdown",
   "metadata": {
    "collapsed": false
   },
   "source": [
    "##### *At this point it would be safe to assume that all values should be larger than 1, and values that are smaller than 1 should be multiplied by 100 to get the decimal point in the right place. So let's convert them to floats and correct the range.*\n",
    "\n"
   ]
  },
  {
   "cell_type": "code",
   "execution_count": 22,
   "metadata": {
    "collapsed": false
   },
   "outputs": [
    {
     "data": {
      "text/plain": [
       "0    0.0240\n",
       "1    0.0229\n",
       "2    0.0244\n",
       "3    2.5000\n",
       "4    0.0250\n",
       "5    0.0236\n",
       "6    0.0240\n",
       "7    0.0234\n",
       "8    0.0250\n",
       "9    0.0241\n",
       "Name: Click_Rate, dtype: float64"
      ]
     },
     "execution_count": 22,
     "metadata": {
     },
     "output_type": "execute_result"
    },
    {
     "data": {
      "text/plain": [
       "134    0.0240\n",
       "135    0.0244\n",
       "136    0.0235\n",
       "137    0.0236\n",
       "138    0.0241\n",
       "140    0.0238\n",
       "141    0.0242\n",
       "142    0.0240\n",
       "143    0.0238\n",
       "144    0.0240\n",
       "Name: Click_Rate, dtype: float64"
      ]
     },
     "execution_count": 22,
     "metadata": {
     },
     "output_type": "execute_result"
    },
    {
     "data": {
      "text/plain": [
       "count    144.000000\n",
       "mean       0.074001\n",
       "std        0.344454\n",
       "min        0.022700\n",
       "25%        0.023600\n",
       "50%        0.024000\n",
       "75%        0.024300\n",
       "max        2.500000\n",
       "Name: Click_Rate, dtype: float64"
      ]
     },
     "execution_count": 22,
     "metadata": {
     },
     "output_type": "execute_result"
    }
   ],
   "source": [
    "dataFrame[\"Click_Rate\"] = dataFrame[\"Click_Rate\"].astype(float)\n",
    "display(dataFrame[\"Click_Rate\"].head(10), dataFrame[\"Click_Rate\"].tail(10), dataFrame[\"Click_Rate\"].describe())"
   ]
  },
  {
   "cell_type": "code",
   "execution_count": 23,
   "metadata": {
    "collapsed": false
   },
   "outputs": [
    {
     "data": {
      "text/plain": [
       "Click_Rate\n",
       "0.0241    14\n",
       "0.0240    13\n",
       "0.0242    13\n",
       "0.0246    12\n",
       "0.0236    11\n",
       "0.0245    10\n",
       "0.0237    10\n",
       "0.0235     9\n",
       "0.0243     8\n",
       "0.0238     7\n",
       "0.0233     5\n",
       "0.0234     4\n",
       "0.0230     4\n",
       "0.0244     4\n",
       "0.0239     4\n",
       "0.0250     3\n",
       "0.0229     2\n",
       "0.0232     2\n",
       "0.0228     2\n",
       "0.0227     2\n",
       "0.0247     2\n",
       "2.4000     1\n",
       "2.3800     1\n",
       "2.5000     1\n",
       "Name: count, dtype: int64"
      ]
     },
     "execution_count": 23,
     "metadata": {
     },
     "output_type": "execute_result"
    }
   ],
   "source": [
    "dataFrame[\"Click_Rate\"].value_counts()"
   ]
  },
  {
   "cell_type": "markdown",
   "metadata": {
    "collapsed": false
   },
   "source": [
    "##### *Now multiply the values that are smaller than 1 by 100 to move the decimal point by 2 digits.*"
   ]
  },
  {
   "cell_type": "code",
   "execution_count": 24,
   "metadata": {
    "collapsed": false
   },
   "outputs": [
    {
     "data": {
      "text/plain": [
       "0    2.40\n",
       "1    2.29\n",
       "2    2.44\n",
       "3    2.50\n",
       "4    2.50\n",
       "5    2.36\n",
       "6    2.40\n",
       "7    2.34\n",
       "8    2.50\n",
       "9    2.41\n",
       "Name: Click_Rate, dtype: float64"
      ]
     },
     "execution_count": 24,
     "metadata": {
     },
     "output_type": "execute_result"
    },
    {
     "data": {
      "text/plain": [
       "134    2.40\n",
       "135    2.44\n",
       "136    2.35\n",
       "137    2.36\n",
       "138    2.41\n",
       "140    2.38\n",
       "141    2.42\n",
       "142    2.40\n",
       "143    2.38\n",
       "144    2.40\n",
       "Name: Click_Rate, dtype: float64"
      ]
     },
     "execution_count": 24,
     "metadata": {
     },
     "output_type": "execute_result"
    },
    {
     "data": {
      "text/plain": [
       "count    144.000000\n",
       "mean       2.395139\n",
       "std        0.050591\n",
       "min        2.270000\n",
       "25%        2.360000\n",
       "50%        2.400000\n",
       "75%        2.430000\n",
       "max        2.500000\n",
       "Name: Click_Rate, dtype: float64"
      ]
     },
     "execution_count": 24,
     "metadata": {
     },
     "output_type": "execute_result"
    }
   ],
   "source": [
    "dataFrame[\"Click_Rate\"] = dataFrame[\"Click_Rate\"].apply(lambda x: x * 100 if x < 1 else x)\n",
    "\n",
    "display(dataFrame[\"Click_Rate\"].head(10), dataFrame[\"Click_Rate\"].tail(10), dataFrame[\"Click_Rate\"].describe())"
   ]
  },
  {
   "cell_type": "code",
   "execution_count": 25,
   "metadata": {
    "collapsed": false
   },
   "outputs": [
    {
     "data": {
      "text/plain": [
       "Click_Rate\n",
       "2.40    14\n",
       "2.41    14\n",
       "2.42    13\n",
       "2.46    12\n",
       "2.36    11\n",
       "2.37    10\n",
       "2.45    10\n",
       "2.35     9\n",
       "2.43     8\n",
       "2.38     7\n",
       "2.33     5\n",
       "2.50     4\n",
       "2.34     4\n",
       "2.44     4\n",
       "2.30     4\n",
       "2.39     4\n",
       "2.27     2\n",
       "2.47     2\n",
       "2.28     2\n",
       "2.32     2\n",
       "2.29     2\n",
       "2.38     1\n",
       "Name: count, dtype: int64"
      ]
     },
     "execution_count": 25,
     "metadata": {
     },
     "output_type": "execute_result"
    }
   ],
   "source": [
    "dataFrame[\"Click_Rate\"].value_counts() # see the values to make sure of the range."
   ]
  },
  {
   "cell_type": "markdown",
   "metadata": {
    "collapsed": false
   },
   "source": [
    "##### *Column is finally ready to reverse-calculate and fill the NAs in \"Clicks\". However, we also need to change \"Impressions\" from int to float as data description suggests that it's continuous.*"
   ]
  },
  {
   "cell_type": "code",
   "execution_count": 26,
   "metadata": {
    "collapsed": false
   },
   "outputs": [
    {
     "name": "stdout",
     "output_type": "stream",
     "text": [
      "<class 'pandas.core.series.Series'>\n",
      "Index: 144 entries, 0 to 144\n",
      "Series name: Impressions\n",
      "Non-Null Count  Dtype  \n",
      "--------------  -----  \n",
      "144 non-null    float64\n",
      "dtypes: float64(1)\n",
      "memory usage: 2.2 KB\n"
     ]
    }
   ],
   "source": [
    "dataFrame[\"Impressions\"] = dataFrame[\"Impressions\"].astype(float)\n",
    "\n",
    "dataFrame[\"Impressions\"].info()"
   ]
  },
  {
   "cell_type": "code",
   "execution_count": 27,
   "metadata": {
    "collapsed": false
   },
   "outputs": [
    {
     "data": {
      "text/plain": [
       "0    1200.0\n",
       "1     801.5\n",
       "2    1098.0\n",
       "3    1500.0\n",
       "4    1000.0\n",
       "5    1298.0\n",
       "6    1152.0\n",
       "7     748.8\n",
       "8    1050.0\n",
       "9    1397.8\n",
       "Name: Clicks, dtype: float64"
      ]
     },
     "execution_count": 27,
     "metadata": {
     },
     "output_type": "execute_result"
    },
    {
     "data": {
      "text/plain": [
       "134    1560.0\n",
       "135    1952.0\n",
       "136    1339.5\n",
       "137    1699.2\n",
       "138    1614.7\n",
       "140    1142.4\n",
       "141    1500.4\n",
       "142    1848.0\n",
       "143    1380.4\n",
       "144    1680.0\n",
       "Name: Clicks, dtype: float64"
      ]
     },
     "execution_count": 27,
     "metadata": {
     },
     "output_type": "execute_result"
    },
    {
     "data": {
      "text/plain": [
       "count     144.000000\n",
       "mean     1304.234722\n",
       "std       276.702025\n",
       "min       748.800000\n",
       "25%      1098.000000\n",
       "50%      1298.250000\n",
       "75%      1500.600000\n",
       "max      1952.000000\n",
       "Name: Clicks, dtype: float64"
      ]
     },
     "execution_count": 27,
     "metadata": {
     },
     "output_type": "execute_result"
    }
   ],
   "source": [
    "# re-calculate \"Clicks\"\n",
    "\n",
    "dataFrame[\"Clicks\"] = (dataFrame[\"Click_Rate\"] * dataFrame[\"Impressions\"]) / 100\n",
    "\n",
    "display(dataFrame[\"Clicks\"].head(10), dataFrame[\"Clicks\"].tail(10), dataFrame[\"Clicks\"].describe())"
   ]
  },
  {
   "cell_type": "markdown",
   "metadata": {
    "collapsed": false
   },
   "source": [
    "##### *Some values have slightly changed, especially the std.dev: it dropped from 345.83 to 276.70. This might be the result of having negative values and some NAs as well, which shouldn't have been there in the first place. It is likely that the final calculation is more accurate if not 100% correct.*"
   ]
  },
  {
   "cell_type": "markdown",
   "metadata": {
    "collapsed": false
   },
   "source": [
    "##### *Let's see if \"Clicks\" is void of NAs now that we reverse-calculated it.*"
   ]
  },
  {
   "cell_type": "code",
   "execution_count": 28,
   "metadata": {
    "collapsed": false
   },
   "outputs": [
    {
     "name": "stdout",
     "output_type": "stream",
     "text": [
      "Year  has total of  0  NA/Null values\n",
      "NA/Null percentage of  Year  is  0 % \n",
      "\n",
      "Month  has total of  0  NA/Null values\n",
      "NA/Null percentage of  Month  is  0 % \n",
      "\n",
      "Product_Type  has total of  0  NA/Null values\n",
      "NA/Null percentage of  Product_Type  is  0 % \n",
      "\n",
      "Ad_Type  has total of  0  NA/Null values\n",
      "NA/Null percentage of  Ad_Type  is  0 % \n",
      "\n",
      "Ad_Slot  has total of  0  NA/Null values\n",
      "NA/Null percentage of  Ad_Slot  is  0 % \n",
      "\n",
      "Impressions  has total of  0  NA/Null values\n",
      "NA/Null percentage of  Impressions  is  0 % \n",
      "\n",
      "Clicks  has total of  0  NA/Null values\n",
      "NA/Null percentage of  Clicks  is  0 % \n",
      "\n",
      "Click_Rate  has total of  0  NA/Null values\n",
      "NA/Null percentage of  Click_Rate  is  0 % \n",
      "\n",
      "Sales  has total of  2  NA/Null values\n",
      "NA/Null percentage of  Sales  is  1 % \n",
      "\n",
      "Revenue  has total of  1  NA/Null values\n",
      "NA/Null percentage of  Revenue  is  0 % \n",
      "\n",
      "Region  has total of  0  NA/Null values\n",
      "NA/Null percentage of  Region  is  0 % \n",
      "\n"
     ]
    }
   ],
   "source": [
    "naValues(dataFrame)"
   ]
  },
  {
   "cell_type": "markdown",
   "metadata": {
    "collapsed": false
   },
   "source": [
    "##### *It worked. Now let's take all object-type columns through basic cleaning, using our custom function.*"
   ]
  },
  {
   "cell_type": "markdown",
   "metadata": {
    "collapsed": false
   },
   "source": [
    "#### **Tidying Object-Type Columns (cont.)**\n"
   ]
  },
  {
   "cell_type": "code",
   "execution_count": 29,
   "metadata": {
    "collapsed": false,
    "scrolled": true
   },
   "outputs": [
    {
     "name": "stdout",
     "output_type": "stream",
     "text": [
      "Month\n",
      "Jan         12\n",
      "Jun         12\n",
      "Feb         12\n",
      "Aug         12\n",
      "Jul         12\n",
      "Sep         12\n",
      "May         12\n",
      "Apr         11\n",
      "Mar         11\n",
      "Nov         11\n",
      "Dec         11\n",
      "Oct         11\n",
      "October      1\n",
      "April        1\n",
      "November     1\n",
      "March        1\n",
      "December     1\n",
      "Name: count, dtype: int64 \n",
      "\n",
      "Product_Type\n",
      "Electronics    48\n",
      "Clothing       48\n",
      "Beauty         48\n",
      "Name: count, dtype: int64 \n",
      "\n",
      "Ad_Type\n",
      "Display    72\n",
      "Video      72\n",
      "Name: count, dtype: int64 \n",
      "\n",
      "Ad_Slot\n",
      "Top       48\n",
      "Bottom    48\n",
      "Side      46\n",
      "Si̇ide     2\n",
      "Name: count, dtype: int64 \n",
      "\n",
      "Region\n",
      "North      35\n",
      "East       35\n",
      "South      35\n",
      "West       35\n",
      "\"west\"      1\n",
      "\"east\"      1\n",
      "\"south\"     1\n",
      "Nrth        1\n",
      "Name: count, dtype: int64 \n",
      "\n"
     ]
    }
   ],
   "source": [
    "for column in dataFrame.select_dtypes(include = 'object').columns:\n",
    "    dataFrame[column] = str_basicclean(dataFrame, column)\n",
    "    print(dataFrame[column].value_counts(), \"\\n\") # Check again to see changes"
   ]
  },
  {
   "cell_type": "markdown",
   "metadata": {
    "collapsed": false
   },
   "source": [
    "##### *\"Product_Type\" and \"Ad_Type\" columns seems OK. \"Month\", \"Ad_Slot\", and \"Region\" needs manual intervention.*"
   ]
  },
  {
   "cell_type": "code",
   "execution_count": 30,
   "metadata": {
    "collapsed": false
   },
   "outputs": [
    {
     "data": {
      "text/plain": [
       "Month\n",
       "Jan    12\n",
       "Feb    12\n",
       "Mar    12\n",
       "Apr    12\n",
       "May    12\n",
       "Jun    12\n",
       "Jul    12\n",
       "Aug    12\n",
       "Sep    12\n",
       "Oct    12\n",
       "Nov    12\n",
       "Dec    12\n",
       "Name: count, dtype: int64"
      ]
     },
     "execution_count": 30,
     "metadata": {
     },
     "output_type": "execute_result"
    },
    {
     "data": {
      "text/plain": [
       "Ad_Slot\n",
       "Top       48\n",
       "Side      48\n",
       "Bottom    48\n",
       "Name: count, dtype: int64"
      ]
     },
     "execution_count": 30,
     "metadata": {
     },
     "output_type": "execute_result"
    },
    {
     "data": {
      "text/plain": [
       "Region\n",
       "North    36\n",
       "West     36\n",
       "East     36\n",
       "South    36\n",
       "Name: count, dtype: int64"
      ]
     },
     "execution_count": 30,
     "metadata": {
     },
     "output_type": "execute_result"
    }
   ],
   "source": [
    "# Fixing the values in \"Month\".\n",
    "dataFrame['Month'] = dataFrame['Month'].replace(to_replace = ['October','April','November','March','December'],value = ['Oct','Apr','Nov','Mar','Dec']) #Correct the wrong values manually\n",
    "\n",
    "# Fixing the values in \"Ad Slot\".\n",
    "dataFrame['Ad_Slot'] = dataFrame['Ad_Slot'].replace(to_replace = ['Si̇ide'], value = ['Side']) # Ad Slot column has one broken value \"Siide\".\n",
    "\n",
    "# Fixing the values in \"Region\".\n",
    "dataFrame['Region'] = str_basicclean(dataFrame,'Region', \"cap\", ' \\\"') # Some values have quotation marks to be stripped, hence we passed it as an argument.\n",
    "dataFrame['Region'] = dataFrame['Region'].replace('Nrth','North') # \"nrth\" would be \"Nrth\" after capitalization, but it still needs to be replaced.\n",
    "\n",
    "\n",
    "\n",
    "display(dataFrame['Month'].value_counts(), dataFrame['Ad_Slot'].value_counts(), dataFrame['Region'].value_counts())"
   ]
  },
  {
   "cell_type": "code",
   "execution_count": 31,
   "metadata": {
    "collapsed": false
   },
   "outputs": [
    {
     "name": "stdout",
     "output_type": "stream",
     "text": [
      "Month\n",
      "Jan    12\n",
      "Feb    12\n",
      "Mar    12\n",
      "Apr    12\n",
      "May    12\n",
      "Jun    12\n",
      "Jul    12\n",
      "Aug    12\n",
      "Sep    12\n",
      "Oct    12\n",
      "Nov    12\n",
      "Dec    12\n",
      "Name: count, dtype: int64 \n",
      "\n",
      "Product_Type\n",
      "Electronics    48\n",
      "Clothing       48\n",
      "Beauty         48\n",
      "Name: count, dtype: int64 \n",
      "\n",
      "Ad_Type\n",
      "Display    72\n",
      "Video      72\n",
      "Name: count, dtype: int64 \n",
      "\n",
      "Ad_Slot\n",
      "Top       48\n",
      "Side      48\n",
      "Bottom    48\n",
      "Name: count, dtype: int64 \n",
      "\n",
      "Region\n",
      "North    36\n",
      "West     36\n",
      "East     36\n",
      "South    36\n",
      "Name: count, dtype: int64 \n",
      "\n"
     ]
    }
   ],
   "source": [
    "for column in dataFrame.select_dtypes(include = 'object').columns:\n",
    "    print(dataFrame[column].value_counts(), \"\\n\") # Check again to see changes"
   ]
  },
  {
   "cell_type": "markdown",
   "metadata": {
    "collapsed": false
   },
   "source": [
    "### **Tidying Non Object-Type Columns (i.e. float and integer-type values)**\n"
   ]
  },
  {
   "cell_type": "code",
   "execution_count": 32,
   "metadata": {
    "collapsed": false
   },
   "outputs": [
    {
     "name": "stdout",
     "output_type": "stream",
     "text": [
      "Year\n",
      "2011    12\n",
      "2012    12\n",
      "2013    12\n",
      "2014    12\n",
      "2015    12\n",
      "2016    12\n",
      "2017    12\n",
      "2018    12\n",
      "2019    12\n",
      "2020    12\n",
      "2021    12\n",
      "2022    12\n",
      "Name: count, dtype: int64 \n",
      "\n",
      "Impressions\n",
      "51000.0    6\n",
      "60000.0    6\n",
      "55000.0    6\n",
      "58000.0    5\n",
      "49000.0    5\n",
      "57000.0    5\n",
      "62000.0    5\n",
      "53000.0    5\n",
      "59000.0    5\n",
      "65000.0    5\n",
      "45000.0    5\n",
      "68000.0    4\n",
      "42000.0    4\n",
      "48000.0    4\n",
      "40000.0    4\n",
      "63000.0    4\n",
      "47000.0    4\n",
      "61000.0    4\n",
      "50000.0    4\n",
      "70000.0    3\n",
      "46000.0    3\n",
      "43000.0    3\n",
      "56000.0    3\n",
      "44000.0    3\n",
      "41000.0    3\n",
      "52000.0    3\n",
      "38000.0    3\n",
      "35000.0    2\n",
      "36000.0    2\n",
      "54000.0    2\n",
      "77000.0    2\n",
      "37000.0    2\n",
      "67000.0    2\n",
      "64000.0    2\n",
      "72000.0    2\n",
      "66000.0    2\n",
      "71000.0    2\n",
      "75000.0    2\n",
      "32000.0    1\n",
      "74000.0    1\n",
      "69000.0    1\n",
      "73000.0    1\n",
      "39000.0    1\n",
      "34000.0    1\n",
      "33000.0    1\n",
      "80000.0    1\n",
      "Name: count, dtype: int64 \n",
      "\n",
      "Clicks\n",
      "1200.0    3\n",
      "1500.4    3\n",
      "1452.0    3\n",
      "1549.8    3\n",
      "1277.3    3\n",
      "         ..\n",
      "1422.0    1\n",
      "1021.5    1\n",
      "1648.2    1\n",
      "1298.5    1\n",
      "1680.0    1\n",
      "Name: count, Length: 109, dtype: int64 \n",
      "\n",
      "Click_Rate\n",
      "2.40    14\n",
      "2.41    14\n",
      "2.42    13\n",
      "2.46    12\n",
      "2.36    11\n",
      "2.37    10\n",
      "2.45    10\n",
      "2.35     9\n",
      "2.43     8\n",
      "2.38     7\n",
      "2.33     5\n",
      "2.50     4\n",
      "2.34     4\n",
      "2.44     4\n",
      "2.30     4\n",
      "2.39     4\n",
      "2.27     2\n",
      "2.47     2\n",
      "2.28     2\n",
      "2.32     2\n",
      "2.29     2\n",
      "2.38     1\n",
      "Name: count, dtype: int64 \n",
      "\n",
      "Sales\n",
      "51.0    6\n",
      "55.0    6\n",
      "59.0    5\n",
      "60.0    5\n",
      "65.0    5\n",
      "45.0    5\n",
      "53.0    5\n",
      "49.0    5\n",
      "62.0    5\n",
      "57.0    5\n",
      "58.0    4\n",
      "68.0    4\n",
      "63.0    4\n",
      "61.0    4\n",
      "47.0    4\n",
      "50.0    4\n",
      "40.0    4\n",
      "48.0    4\n",
      "38.0    3\n",
      "43.0    3\n",
      "52.0    3\n",
      "32.0    3\n",
      "70.0    3\n",
      "42.0    3\n",
      "46.0    3\n",
      "77.0    2\n",
      "72.0    2\n",
      "75.0    2\n",
      "71.0    2\n",
      "66.0    2\n",
      "64.0    2\n",
      "67.0    2\n",
      "35.0    2\n",
      "54.0    2\n",
      "56.0    2\n",
      "37.0    2\n",
      "39.0    2\n",
      "30.0    2\n",
      "44.0    2\n",
      "36.0    2\n",
      "41.0    1\n",
      "69.0    1\n",
      "28.0    1\n",
      "73.0    1\n",
      "33.0    1\n",
      "74.0    1\n",
      "80.0    1\n",
      "Name: count, dtype: int64 \n",
      "\n",
      "Revenue\n",
      "5100.0    6\n",
      "5500.0    6\n",
      "5900.0    5\n",
      "5700.0    5\n",
      "6000.0    5\n",
      "6500.0    5\n",
      "4500.0    5\n",
      "5300.0    5\n",
      "4900.0    5\n",
      "5800.0    5\n",
      "6200.0    5\n",
      "6800.0    4\n",
      "6300.0    4\n",
      "6100.0    4\n",
      "5000.0    4\n",
      "4000.0    4\n",
      "4800.0    4\n",
      "4300.0    3\n",
      "4700.0    3\n",
      "5200.0    3\n",
      "3800.0    3\n",
      "3200.0    3\n",
      "4600.0    3\n",
      "7000.0    3\n",
      "4200.0    3\n",
      "5600.0    3\n",
      "6700.0    2\n",
      "3500.0    2\n",
      "7700.0    2\n",
      "7200.0    2\n",
      "6600.0    2\n",
      "7100.0    2\n",
      "6400.0    2\n",
      "3700.0    2\n",
      "3900.0    2\n",
      "3000.0    2\n",
      "4400.0    2\n",
      "3600.0    2\n",
      "5400.0    2\n",
      "7500.0    2\n",
      "7400.0    1\n",
      "3300.0    1\n",
      "7300.0    1\n",
      "6900.0    1\n",
      "4100.0    1\n",
      "2800.0    1\n",
      "8000.0    1\n",
      "Name: count, dtype: int64 \n",
      "\n"
     ]
    }
   ],
   "source": [
    "# Let's take a value count for each non object column\n",
    "for column in dataFrame.select_dtypes(exclude = 'object').columns:\n",
    "    print(dataFrame[column].value_counts(), \"\\n\")"
   ]
  },
  {
   "cell_type": "markdown",
   "metadata": {
    "collapsed": false
   },
   "source": [
    "##### *All numerical columns should be checked for negative values regardless.* \n",
    "\n",
    "##### *Logically, every numerical column in this dataset should contain only positive values, except for \"Revenue\", since negative revenues are possible and indicate economic losses.*\n",
    "\n",
    "##### *Let's look into the amount of negative values in each column.*"
   ]
  },
  {
   "cell_type": "code",
   "execution_count": 33,
   "metadata": {
    "collapsed": false
   },
   "outputs": [
    {
     "name": "stdout",
     "output_type": "stream",
     "text": [
      "Negative values in column Year : 0\n",
      "Negative values in column Impressions : 0\n",
      "Negative values in column Clicks : 0\n",
      "Negative values in column Click_Rate : 0\n",
      "Negative values in column Sales : 0\n",
      "Negative values in column Revenue : 0\n"
     ]
    }
   ],
   "source": [
    "for column in dataFrame.select_dtypes(exclude = 'object').columns:\n",
    "    print(\"Negative values in column\", column, \":\" ,(dataFrame[column] < 0).sum().sum())"
   ]
  },
  {
   "cell_type": "markdown",
   "metadata": {
    "collapsed": false
   },
   "source": [
    "##### *Luckily, there are no negative values in \"Revenue\", so all columns can be cleaned at once. Let's take absolute value for all columns just to be sure.*"
   ]
  },
  {
   "cell_type": "code",
   "execution_count": 34,
   "metadata": {
    "collapsed": false
   },
   "outputs": [
    {
     "name": "stdout",
     "output_type": "stream",
     "text": [
      "Negative values in column Year : 0\n",
      "after taking abs. val. :  0 \n",
      "\n",
      "Negative values in column Impressions : 0\n",
      "after taking abs. val. :  0 \n",
      "\n",
      "Negative values in column Clicks : 0\n",
      "after taking abs. val. :  0 \n",
      "\n",
      "Negative values in column Click_Rate : 0\n",
      "after taking abs. val. :  0 \n",
      "\n",
      "Negative values in column Sales : 0\n",
      "after taking abs. val. :  0 \n",
      "\n",
      "Negative values in column Revenue : 0\n",
      "after taking abs. val. :  0 \n",
      "\n"
     ]
    }
   ],
   "source": [
    "for column in dataFrame.select_dtypes(exclude = 'object').columns:\n",
    "    print(\"Negative values in column\", column, \":\" ,(dataFrame[column] < 0).sum().sum())\n",
    "    dataFrameAbs = dataFrame.select_dtypes(exclude = 'object').abs()\n",
    "    dataFrame[column] = dataFrameAbs[column]\n",
    "    print(\"after taking abs. val. : \", (dataFrame[column] < 0).sum().sum(), \"\\n\")"
   ]
  },
  {
   "cell_type": "markdown",
   "metadata": {
    "collapsed": false
   },
   "source": [
    "##### *View all numerical columns to see results.*"
   ]
  },
  {
   "cell_type": "code",
   "execution_count": 35,
   "metadata": {
    "collapsed": false
   },
   "outputs": [
    {
     "name": "stdout",
     "output_type": "stream",
     "text": [
      "Year\n",
      "2011    12\n",
      "2012    12\n",
      "2013    12\n",
      "2014    12\n",
      "2015    12\n",
      "2016    12\n",
      "2017    12\n",
      "2018    12\n",
      "2019    12\n",
      "2020    12\n",
      "2021    12\n",
      "2022    12\n",
      "Name: count, dtype: int64 \n",
      "\n",
      "Impressions\n",
      "51000.0    6\n",
      "60000.0    6\n",
      "55000.0    6\n",
      "58000.0    5\n",
      "49000.0    5\n",
      "57000.0    5\n",
      "62000.0    5\n",
      "53000.0    5\n",
      "59000.0    5\n",
      "65000.0    5\n",
      "45000.0    5\n",
      "68000.0    4\n",
      "42000.0    4\n",
      "48000.0    4\n",
      "40000.0    4\n",
      "63000.0    4\n",
      "47000.0    4\n",
      "61000.0    4\n",
      "50000.0    4\n",
      "70000.0    3\n",
      "46000.0    3\n",
      "43000.0    3\n",
      "56000.0    3\n",
      "44000.0    3\n",
      "41000.0    3\n",
      "52000.0    3\n",
      "38000.0    3\n",
      "35000.0    2\n",
      "36000.0    2\n",
      "54000.0    2\n",
      "77000.0    2\n",
      "37000.0    2\n",
      "67000.0    2\n",
      "64000.0    2\n",
      "72000.0    2\n",
      "66000.0    2\n",
      "71000.0    2\n",
      "75000.0    2\n",
      "32000.0    1\n",
      "74000.0    1\n",
      "69000.0    1\n",
      "73000.0    1\n",
      "39000.0    1\n",
      "34000.0    1\n",
      "33000.0    1\n",
      "80000.0    1\n",
      "Name: count, dtype: int64 \n",
      "\n",
      "Clicks\n",
      "1200.0    3\n",
      "1500.4    3\n",
      "1452.0    3\n",
      "1549.8    3\n",
      "1277.3    3\n",
      "         ..\n",
      "1422.0    1\n",
      "1021.5    1\n",
      "1648.2    1\n",
      "1298.5    1\n",
      "1680.0    1\n",
      "Name: count, Length: 109, dtype: int64 \n",
      "\n",
      "Click_Rate\n",
      "2.40    14\n",
      "2.41    14\n",
      "2.42    13\n",
      "2.46    12\n",
      "2.36    11\n",
      "2.37    10\n",
      "2.45    10\n",
      "2.35     9\n",
      "2.43     8\n",
      "2.38     7\n",
      "2.33     5\n",
      "2.50     4\n",
      "2.34     4\n",
      "2.44     4\n",
      "2.30     4\n",
      "2.39     4\n",
      "2.27     2\n",
      "2.47     2\n",
      "2.28     2\n",
      "2.32     2\n",
      "2.29     2\n",
      "2.38     1\n",
      "Name: count, dtype: int64 \n",
      "\n",
      "Sales\n",
      "51.0    6\n",
      "55.0    6\n",
      "59.0    5\n",
      "60.0    5\n",
      "65.0    5\n",
      "45.0    5\n",
      "53.0    5\n",
      "49.0    5\n",
      "62.0    5\n",
      "57.0    5\n",
      "58.0    4\n",
      "68.0    4\n",
      "63.0    4\n",
      "61.0    4\n",
      "47.0    4\n",
      "50.0    4\n",
      "40.0    4\n",
      "48.0    4\n",
      "38.0    3\n",
      "43.0    3\n",
      "52.0    3\n",
      "32.0    3\n",
      "70.0    3\n",
      "42.0    3\n",
      "46.0    3\n",
      "77.0    2\n",
      "72.0    2\n",
      "75.0    2\n",
      "71.0    2\n",
      "66.0    2\n",
      "64.0    2\n",
      "67.0    2\n",
      "35.0    2\n",
      "54.0    2\n",
      "56.0    2\n",
      "37.0    2\n",
      "39.0    2\n",
      "30.0    2\n",
      "44.0    2\n",
      "36.0    2\n",
      "41.0    1\n",
      "69.0    1\n",
      "28.0    1\n",
      "73.0    1\n",
      "33.0    1\n",
      "74.0    1\n",
      "80.0    1\n",
      "Name: count, dtype: int64 \n",
      "\n",
      "Revenue\n",
      "5100.0    6\n",
      "5500.0    6\n",
      "5900.0    5\n",
      "5700.0    5\n",
      "6000.0    5\n",
      "6500.0    5\n",
      "4500.0    5\n",
      "5300.0    5\n",
      "4900.0    5\n",
      "5800.0    5\n",
      "6200.0    5\n",
      "6800.0    4\n",
      "6300.0    4\n",
      "6100.0    4\n",
      "5000.0    4\n",
      "4000.0    4\n",
      "4800.0    4\n",
      "4300.0    3\n",
      "4700.0    3\n",
      "5200.0    3\n",
      "3800.0    3\n",
      "3200.0    3\n",
      "4600.0    3\n",
      "7000.0    3\n",
      "4200.0    3\n",
      "5600.0    3\n",
      "6700.0    2\n",
      "3500.0    2\n",
      "7700.0    2\n",
      "7200.0    2\n",
      "6600.0    2\n",
      "7100.0    2\n",
      "6400.0    2\n",
      "3700.0    2\n",
      "3900.0    2\n",
      "3000.0    2\n",
      "4400.0    2\n",
      "3600.0    2\n",
      "5400.0    2\n",
      "7500.0    2\n",
      "7400.0    1\n",
      "3300.0    1\n",
      "7300.0    1\n",
      "6900.0    1\n",
      "4100.0    1\n",
      "2800.0    1\n",
      "8000.0    1\n",
      "Name: count, dtype: int64 \n",
      "\n"
     ]
    }
   ],
   "source": [
    "for column in dataFrame.select_dtypes(exclude = 'object').columns:\n",
    "    print(dataFrame[column].value_counts(), \"\\n\")"
   ]
  },
  {
   "cell_type": "code",
   "execution_count": 36,
   "metadata": {
    "collapsed": false
   },
   "outputs": [
    {
     "data": {
      "text/html": [
       "<div>\n",
       "<style scoped>\n",
       "    .dataframe tbody tr th:only-of-type {\n",
       "        vertical-align: middle;\n",
       "    }\n",
       "\n",
       "    .dataframe tbody tr th {\n",
       "        vertical-align: top;\n",
       "    }\n",
       "\n",
       "    .dataframe thead th {\n",
       "        text-align: right;\n",
       "    }\n",
       "</style>\n",
       "<table border=\"1\" class=\"dataframe\">\n",
       "  <thead>\n",
       "    <tr style=\"text-align: right;\">\n",
       "      <th></th>\n",
       "      <th>count</th>\n",
       "      <th>mean</th>\n",
       "      <th>std</th>\n",
       "      <th>min</th>\n",
       "      <th>25%</th>\n",
       "      <th>50%</th>\n",
       "      <th>75%</th>\n",
       "      <th>max</th>\n",
       "    </tr>\n",
       "  </thead>\n",
       "  <tbody>\n",
       "    <tr>\n",
       "      <th>Year</th>\n",
       "      <td>144.0</td>\n",
       "      <td>2016.500000</td>\n",
       "      <td>3.464102</td>\n",
       "      <td>2011.00</td>\n",
       "      <td>2013.75</td>\n",
       "      <td>2016.50</td>\n",
       "      <td>2019.25</td>\n",
       "      <td>2022.0</td>\n",
       "    </tr>\n",
       "    <tr>\n",
       "      <th>Impressions</th>\n",
       "      <td>144.0</td>\n",
       "      <td>54333.333333</td>\n",
       "      <td>10939.119510</td>\n",
       "      <td>32000.00</td>\n",
       "      <td>46000.00</td>\n",
       "      <td>55000.00</td>\n",
       "      <td>62000.00</td>\n",
       "      <td>80000.0</td>\n",
       "    </tr>\n",
       "    <tr>\n",
       "      <th>Clicks</th>\n",
       "      <td>144.0</td>\n",
       "      <td>1304.234722</td>\n",
       "      <td>276.702025</td>\n",
       "      <td>748.80</td>\n",
       "      <td>1098.00</td>\n",
       "      <td>1298.25</td>\n",
       "      <td>1500.60</td>\n",
       "      <td>1952.0</td>\n",
       "    </tr>\n",
       "    <tr>\n",
       "      <th>Click_Rate</th>\n",
       "      <td>144.0</td>\n",
       "      <td>2.395139</td>\n",
       "      <td>0.050591</td>\n",
       "      <td>2.27</td>\n",
       "      <td>2.36</td>\n",
       "      <td>2.40</td>\n",
       "      <td>2.43</td>\n",
       "      <td>2.5</td>\n",
       "    </tr>\n",
       "    <tr>\n",
       "      <th>Sales</th>\n",
       "      <td>142.0</td>\n",
       "      <td>53.795775</td>\n",
       "      <td>11.640318</td>\n",
       "      <td>28.00</td>\n",
       "      <td>45.25</td>\n",
       "      <td>54.00</td>\n",
       "      <td>62.00</td>\n",
       "      <td>80.0</td>\n",
       "    </tr>\n",
       "    <tr>\n",
       "      <th>Revenue</th>\n",
       "      <td>143.0</td>\n",
       "      <td>5388.811189</td>\n",
       "      <td>1159.170715</td>\n",
       "      <td>2800.00</td>\n",
       "      <td>4550.00</td>\n",
       "      <td>5500.00</td>\n",
       "      <td>6200.00</td>\n",
       "      <td>8000.0</td>\n",
       "    </tr>\n",
       "  </tbody>\n",
       "</table>\n",
       "</div>"
      ],
      "text/plain": [
       "             count          mean           std       min       25%       50%  \\\n",
       "Year         144.0   2016.500000      3.464102   2011.00   2013.75   2016.50   \n",
       "Impressions  144.0  54333.333333  10939.119510  32000.00  46000.00  55000.00   \n",
       "Clicks       144.0   1304.234722    276.702025    748.80   1098.00   1298.25   \n",
       "Click_Rate   144.0      2.395139      0.050591      2.27      2.36      2.40   \n",
       "Sales        142.0     53.795775     11.640318     28.00     45.25     54.00   \n",
       "Revenue      143.0   5388.811189   1159.170715   2800.00   4550.00   5500.00   \n",
       "\n",
       "                  75%      max  \n",
       "Year          2019.25   2022.0  \n",
       "Impressions  62000.00  80000.0  \n",
       "Clicks        1500.60   1952.0  \n",
       "Click_Rate       2.43      2.5  \n",
       "Sales           62.00     80.0  \n",
       "Revenue       6200.00   8000.0  "
      ]
     },
     "execution_count": 36,
     "metadata": {
     },
     "output_type": "execute_result"
    }
   ],
   "source": [
    "dataFrame.describe().transpose()"
   ]
  },
  {
   "cell_type": "markdown",
   "metadata": {
    "collapsed": false
   },
   "source": [
    "##### *Values in numerical type columns seems consistent and within logical limits, correlating with the data description.*"
   ]
  },
  {
   "cell_type": "markdown",
   "metadata": {
    "collapsed": false
   },
   "source": [
    "##### *As it was mentioned previously, \"Impressions\" and \"Sales\" should be converted to float and int, respectively; according to the data description. \"Impressions\" were handled at the beginning of the code, however, the Null values in \"Sales\" should be filled first to avoid NaN values appearing in the dataset.*"
   ]
  },
  {
   "cell_type": "code",
   "execution_count": 37,
   "metadata": {
    "collapsed": false
   },
   "outputs": [
    {
     "name": "stdout",
     "output_type": "stream",
     "text": [
      "Median of 'Sales': 54.0\n"
     ]
    },
    {
     "data": {
      "text/plain": [
       "Sales    0\n",
       "dtype: int64"
      ]
     },
     "execution_count": 37,
     "metadata": {
     },
     "output_type": "execute_result"
    }
   ],
   "source": [
    "# Converting \"Sales\" to int.\n",
    "# Let's fill the missing values with median.\n",
    "\n",
    "print(\"Median of 'Sales':\", dataFrame[\"Sales\"].median()) # see the median\n",
    "\n",
    "dataFrame[\"Sales\"] = dataFrame[\"Sales\"].fillna(dataFrame[\"Sales\"].median()) # Fill the NA values with median.\n",
    "dataFrame[[\"Sales\"]].isna().sum() # see if we have any NAs left in \"Sales\""
   ]
  },
  {
   "cell_type": "markdown",
   "metadata": {
    "collapsed": false
   },
   "source": [
    "##### *Since there are no NA's left, it is safe to convert \"Sales\" to int.*"
   ]
  },
  {
   "cell_type": "code",
   "execution_count": 38,
   "metadata": {
    "collapsed": false
   },
   "outputs": [
    {
     "name": "stdout",
     "output_type": "stream",
     "text": [
      "<class 'pandas.core.series.Series'>\n",
      "Index: 144 entries, 0 to 144\n",
      "Series name: Sales\n",
      "Non-Null Count  Dtype\n",
      "--------------  -----\n",
      "144 non-null    int64\n",
      "dtypes: int64(1)\n",
      "memory usage: 2.2 KB\n"
     ]
    },
    {
     "data": {
      "text/plain": [
       "None"
      ]
     },
     "execution_count": 38,
     "metadata": {
     },
     "output_type": "execute_result"
    },
    {
     "data": {
      "text/plain": [
       "0    50\n",
       "1    30\n",
       "2    40\n",
       "3    60\n",
       "4    35\n",
       "Name: Sales, dtype: int64"
      ]
     },
     "execution_count": 38,
     "metadata": {
     },
     "output_type": "execute_result"
    }
   ],
   "source": [
    "dataFrame[\"Sales\"] = dataFrame[\"Sales\"].astype(int) # Convert \"Sales\" to int.\n",
    "\n",
    "display(dataFrame[\"Sales\"].info(), dataFrame[\"Sales\"].head())"
   ]
  },
  {
   "cell_type": "markdown",
   "metadata": {
    "collapsed": false
   },
   "source": [
    "##### *Other columns that had NAs were \"Revenue\" and \"Clicks\", which are also numerical. \"Clicks\" were re-calculated to fill NA values at the beginning. It would be fitting to fill \"Revenue\" out at this stage.*"
   ]
  },
  {
   "cell_type": "code",
   "execution_count": 39,
   "metadata": {
    "collapsed": false
   },
   "outputs": [
    {
     "data": {
      "text/plain": [
       "0"
      ]
     },
     "execution_count": 39,
     "metadata": {
     },
     "output_type": "execute_result"
    }
   ],
   "source": [
    "dataFrame[\"Revenue\"] = dataFrame[\"Revenue\"].fillna(dataFrame[\"Revenue\"].median())\n",
    "dataFrame[\"Revenue\"].isna().sum()"
   ]
  },
  {
   "cell_type": "markdown",
   "metadata": {
    "collapsed": false
   },
   "source": [
    "### **Creating a date column**"
   ]
  },
  {
   "cell_type": "markdown",
   "metadata": {
    "collapsed": false
   },
   "source": [
    "##### *It would be more appropriate to have a date column instead of having \"Month\" and \"Year\" separately. However, \"Year\" should be turned into object (string) beforehand, and two columns can be merged as ``period`` type, because we have no day variable. Since we have no NA/Null's on either column, it is fine to proceed with merging.*"
   ]
  },
  {
   "cell_type": "markdown",
   "metadata": {
    "collapsed": false
   },
   "source": [
    "##### *We have no days, all months and years ranging from 2011 to 2022.*"
   ]
  },
  {
   "cell_type": "code",
   "execution_count": 40,
   "metadata": {
    "collapsed": false
   },
   "outputs": [
    {
     "data": {
      "text/plain": [
       "Month\n",
       "1     12\n",
       "2     12\n",
       "3     12\n",
       "4     12\n",
       "5     12\n",
       "6     12\n",
       "7     12\n",
       "8     12\n",
       "9     12\n",
       "10    12\n",
       "11    12\n",
       "12    12\n",
       "Name: count, dtype: int64"
      ]
     },
     "execution_count": 40,
     "metadata": {
     },
     "output_type": "execute_result"
    }
   ],
   "source": [
    "# pandas doesn't seem to like date formats as strings, so it was easier and probably necessary to convert string month values from \"Jan, Feb, Mar...\" to integer \"1, 2, 3...\"\n",
    "\n",
    "for i in range(1, 13):\n",
    "    dataFrame['Month'] = dataFrame['Month'].replace(to_replace = dataFrame['Month'].iloc[i-1] ,value = i)\n",
    "    \n",
    "dataFrame[\"Month\"].value_counts()"
   ]
  },
  {
   "cell_type": "code",
   "execution_count": 41,
   "metadata": {
    "collapsed": false
   },
   "outputs": [
    {
     "name": "stdout",
     "output_type": "stream",
     "text": [
      "<class 'pandas.core.frame.DataFrame'>\n",
      "Index: 144 entries, 0 to 144\n",
      "Data columns (total 2 columns):\n",
      " #   Column  Non-Null Count  Dtype\n",
      "---  ------  --------------  -----\n",
      " 0   year    144 non-null    int64\n",
      " 1   month   144 non-null    int64\n",
      "dtypes: int64(2)\n",
      "memory usage: 3.4 KB\n"
     ]
    },
    {
     "data": {
      "text/html": [
       "<div>\n",
       "<style scoped>\n",
       "    .dataframe tbody tr th:only-of-type {\n",
       "        vertical-align: middle;\n",
       "    }\n",
       "\n",
       "    .dataframe tbody tr th {\n",
       "        vertical-align: top;\n",
       "    }\n",
       "\n",
       "    .dataframe thead th {\n",
       "        text-align: right;\n",
       "    }\n",
       "</style>\n",
       "<table border=\"1\" class=\"dataframe\">\n",
       "  <thead>\n",
       "    <tr style=\"text-align: right;\">\n",
       "      <th></th>\n",
       "      <th>year</th>\n",
       "      <th>month</th>\n",
       "    </tr>\n",
       "  </thead>\n",
       "  <tbody>\n",
       "    <tr>\n",
       "      <th>0</th>\n",
       "      <td>2011</td>\n",
       "      <td>1</td>\n",
       "    </tr>\n",
       "    <tr>\n",
       "      <th>1</th>\n",
       "      <td>2011</td>\n",
       "      <td>2</td>\n",
       "    </tr>\n",
       "    <tr>\n",
       "      <th>2</th>\n",
       "      <td>2011</td>\n",
       "      <td>3</td>\n",
       "    </tr>\n",
       "    <tr>\n",
       "      <th>3</th>\n",
       "      <td>2011</td>\n",
       "      <td>4</td>\n",
       "    </tr>\n",
       "    <tr>\n",
       "      <th>4</th>\n",
       "      <td>2011</td>\n",
       "      <td>5</td>\n",
       "    </tr>\n",
       "  </tbody>\n",
       "</table>\n",
       "</div>"
      ],
      "text/plain": [
       "   year  month\n",
       "0  2011      1\n",
       "1  2011      2\n",
       "2  2011      3\n",
       "3  2011      4\n",
       "4  2011      5"
      ]
     },
     "execution_count": 41,
     "metadata": {
     },
     "output_type": "execute_result"
    },
    {
     "data": {
      "text/plain": [
       "None"
      ]
     },
     "execution_count": 41,
     "metadata": {
     },
     "output_type": "execute_result"
    }
   ],
   "source": [
    "# pd.to_datetime method converts year and month to date if the column names are accordingly set.\n",
    "\n",
    "dataFrame = dataFrame.rename({\"Year\" : \"year\", \"Month\" : \"month\"}, axis = \"columns\")\n",
    "display(dataFrame[[\"year\", \"month\"]].head(), dataFrame[[\"year\", \"month\"]].info())"
   ]
  },
  {
   "cell_type": "code",
   "execution_count": 42,
   "metadata": {
    "collapsed": false
   },
   "outputs": [
    {
     "name": "stdout",
     "output_type": "stream",
     "text": [
      "<class 'pandas.core.series.Series'>\n",
      "Index: 144 entries, 0 to 144\n",
      "Series name: Date\n",
      "Non-Null Count  Dtype    \n",
      "--------------  -----    \n",
      "144 non-null    period[M]\n",
      "dtypes: period[M](1)\n",
      "memory usage: 2.2 KB\n"
     ]
    },
    {
     "data": {
      "text/plain": [
       "0     2011-01\n",
       "1     2011-02\n",
       "2     2011-03\n",
       "3     2011-04\n",
       "4     2011-05\n",
       "5     2011-06\n",
       "6     2011-07\n",
       "7     2011-08\n",
       "8     2011-09\n",
       "9     2011-10\n",
       "10    2011-11\n",
       "11    2011-12\n",
       "Name: Date, dtype: period[M]"
      ]
     },
     "execution_count": 42,
     "metadata": {
     },
     "output_type": "execute_result"
    },
    {
     "data": {
      "text/plain": [
       "132    2022-01\n",
       "133    2022-02\n",
       "134    2022-03\n",
       "135    2022-04\n",
       "136    2022-05\n",
       "137    2022-06\n",
       "138    2022-07\n",
       "140    2022-08\n",
       "141    2022-09\n",
       "142    2022-10\n",
       "143    2022-11\n",
       "144    2022-12\n",
       "Name: Date, dtype: period[M]"
      ]
     },
     "execution_count": 42,
     "metadata": {
     },
     "output_type": "execute_result"
    },
    {
     "data": {
      "text/plain": [
       "None"
      ]
     },
     "execution_count": 42,
     "metadata": {
     },
     "output_type": "execute_result"
    }
   ],
   "source": [
    "# Now actually create a date column with datetime type\n",
    "\n",
    "dataFrame[\"Date\"] = pd.to_datetime(dataFrame[[\"year\", \"month\"]].assign(day = 1)) # construct the column, pd.to_datetime requires that day is specified\n",
    "\n",
    "dataFrame[\"Date\"] = dataFrame[\"Date\"].dt.to_period(\"M\") # since we have no days on the original dataframe, convert the date-type to a monthly period-type\n",
    "\n",
    "display(dataFrame[\"Date\"].head(12), dataFrame[\"Date\"].tail(12), dataFrame[\"Date\"].info()) # 12 because there are 12 months"
   ]
  },
  {
   "cell_type": "code",
   "execution_count": 43,
   "metadata": {
    "collapsed": false
   },
   "outputs": [
    {
     "data": {
      "text/html": [
       "<div>\n",
       "<style scoped>\n",
       "    .dataframe tbody tr th:only-of-type {\n",
       "        vertical-align: middle;\n",
       "    }\n",
       "\n",
       "    .dataframe tbody tr th {\n",
       "        vertical-align: top;\n",
       "    }\n",
       "\n",
       "    .dataframe thead th {\n",
       "        text-align: right;\n",
       "    }\n",
       "</style>\n",
       "<table border=\"1\" class=\"dataframe\">\n",
       "  <thead>\n",
       "    <tr style=\"text-align: right;\">\n",
       "      <th></th>\n",
       "      <th>year</th>\n",
       "      <th>month</th>\n",
       "      <th>Product_Type</th>\n",
       "      <th>Ad_Type</th>\n",
       "      <th>Ad_Slot</th>\n",
       "      <th>Impressions</th>\n",
       "      <th>Clicks</th>\n",
       "      <th>Click_Rate</th>\n",
       "      <th>Sales</th>\n",
       "      <th>Revenue</th>\n",
       "      <th>Region</th>\n",
       "      <th>Date</th>\n",
       "    </tr>\n",
       "  </thead>\n",
       "  <tbody>\n",
       "    <tr>\n",
       "      <th>0</th>\n",
       "      <td>2011</td>\n",
       "      <td>1</td>\n",
       "      <td>Electronics</td>\n",
       "      <td>Display</td>\n",
       "      <td>Top</td>\n",
       "      <td>50000.0</td>\n",
       "      <td>1200.0</td>\n",
       "      <td>2.40</td>\n",
       "      <td>50</td>\n",
       "      <td>5000.0</td>\n",
       "      <td>North</td>\n",
       "      <td>2011-01</td>\n",
       "    </tr>\n",
       "    <tr>\n",
       "      <th>1</th>\n",
       "      <td>2011</td>\n",
       "      <td>2</td>\n",
       "      <td>Clothing</td>\n",
       "      <td>Video</td>\n",
       "      <td>Side</td>\n",
       "      <td>35000.0</td>\n",
       "      <td>801.5</td>\n",
       "      <td>2.29</td>\n",
       "      <td>30</td>\n",
       "      <td>3000.0</td>\n",
       "      <td>West</td>\n",
       "      <td>2011-02</td>\n",
       "    </tr>\n",
       "    <tr>\n",
       "      <th>2</th>\n",
       "      <td>2011</td>\n",
       "      <td>3</td>\n",
       "      <td>Beauty</td>\n",
       "      <td>Display</td>\n",
       "      <td>Bottom</td>\n",
       "      <td>45000.0</td>\n",
       "      <td>1098.0</td>\n",
       "      <td>2.44</td>\n",
       "      <td>40</td>\n",
       "      <td>4000.0</td>\n",
       "      <td>East</td>\n",
       "      <td>2011-03</td>\n",
       "    </tr>\n",
       "    <tr>\n",
       "      <th>3</th>\n",
       "      <td>2011</td>\n",
       "      <td>4</td>\n",
       "      <td>Electronics</td>\n",
       "      <td>Video</td>\n",
       "      <td>Top</td>\n",
       "      <td>60000.0</td>\n",
       "      <td>1500.0</td>\n",
       "      <td>2.50</td>\n",
       "      <td>60</td>\n",
       "      <td>6000.0</td>\n",
       "      <td>South</td>\n",
       "      <td>2011-04</td>\n",
       "    </tr>\n",
       "    <tr>\n",
       "      <th>4</th>\n",
       "      <td>2011</td>\n",
       "      <td>5</td>\n",
       "      <td>Clothing</td>\n",
       "      <td>Display</td>\n",
       "      <td>Side</td>\n",
       "      <td>40000.0</td>\n",
       "      <td>1000.0</td>\n",
       "      <td>2.50</td>\n",
       "      <td>35</td>\n",
       "      <td>3500.0</td>\n",
       "      <td>North</td>\n",
       "      <td>2011-05</td>\n",
       "    </tr>\n",
       "  </tbody>\n",
       "</table>\n",
       "</div>"
      ],
      "text/plain": [
       "   year  month Product_Type  Ad_Type Ad_Slot  Impressions  Clicks  Click_Rate  \\\n",
       "0  2011      1  Electronics  Display     Top      50000.0  1200.0        2.40   \n",
       "1  2011      2     Clothing    Video    Side      35000.0   801.5        2.29   \n",
       "2  2011      3       Beauty  Display  Bottom      45000.0  1098.0        2.44   \n",
       "3  2011      4  Electronics    Video     Top      60000.0  1500.0        2.50   \n",
       "4  2011      5     Clothing  Display    Side      40000.0  1000.0        2.50   \n",
       "\n",
       "   Sales  Revenue Region     Date  \n",
       "0     50   5000.0  North  2011-01  \n",
       "1     30   3000.0   West  2011-02  \n",
       "2     40   4000.0   East  2011-03  \n",
       "3     60   6000.0  South  2011-04  \n",
       "4     35   3500.0  North  2011-05  "
      ]
     },
     "execution_count": 43,
     "metadata": {
     },
     "output_type": "execute_result"
    }
   ],
   "source": [
    "dataFrame.head()"
   ]
  },
  {
   "cell_type": "markdown",
   "metadata": {
    "collapsed": false
   },
   "source": [
    "##### *Now that we have a date column, year and month are unnecessary.*"
   ]
  },
  {
   "cell_type": "code",
   "execution_count": 44,
   "metadata": {
    "collapsed": false
   },
   "outputs": [
    {
     "data": {
      "text/html": [
       "<div>\n",
       "<style scoped>\n",
       "    .dataframe tbody tr th:only-of-type {\n",
       "        vertical-align: middle;\n",
       "    }\n",
       "\n",
       "    .dataframe tbody tr th {\n",
       "        vertical-align: top;\n",
       "    }\n",
       "\n",
       "    .dataframe thead th {\n",
       "        text-align: right;\n",
       "    }\n",
       "</style>\n",
       "<table border=\"1\" class=\"dataframe\">\n",
       "  <thead>\n",
       "    <tr style=\"text-align: right;\">\n",
       "      <th></th>\n",
       "      <th>Product_Type</th>\n",
       "      <th>Ad_Type</th>\n",
       "      <th>Ad_Slot</th>\n",
       "      <th>Impressions</th>\n",
       "      <th>Clicks</th>\n",
       "      <th>Click_Rate</th>\n",
       "      <th>Sales</th>\n",
       "      <th>Revenue</th>\n",
       "      <th>Region</th>\n",
       "      <th>Date</th>\n",
       "    </tr>\n",
       "  </thead>\n",
       "  <tbody>\n",
       "    <tr>\n",
       "      <th>0</th>\n",
       "      <td>Electronics</td>\n",
       "      <td>Display</td>\n",
       "      <td>Top</td>\n",
       "      <td>50000.0</td>\n",
       "      <td>1200.0</td>\n",
       "      <td>2.40</td>\n",
       "      <td>50</td>\n",
       "      <td>5000.0</td>\n",
       "      <td>North</td>\n",
       "      <td>2011-01</td>\n",
       "    </tr>\n",
       "    <tr>\n",
       "      <th>1</th>\n",
       "      <td>Clothing</td>\n",
       "      <td>Video</td>\n",
       "      <td>Side</td>\n",
       "      <td>35000.0</td>\n",
       "      <td>801.5</td>\n",
       "      <td>2.29</td>\n",
       "      <td>30</td>\n",
       "      <td>3000.0</td>\n",
       "      <td>West</td>\n",
       "      <td>2011-02</td>\n",
       "    </tr>\n",
       "    <tr>\n",
       "      <th>2</th>\n",
       "      <td>Beauty</td>\n",
       "      <td>Display</td>\n",
       "      <td>Bottom</td>\n",
       "      <td>45000.0</td>\n",
       "      <td>1098.0</td>\n",
       "      <td>2.44</td>\n",
       "      <td>40</td>\n",
       "      <td>4000.0</td>\n",
       "      <td>East</td>\n",
       "      <td>2011-03</td>\n",
       "    </tr>\n",
       "    <tr>\n",
       "      <th>3</th>\n",
       "      <td>Electronics</td>\n",
       "      <td>Video</td>\n",
       "      <td>Top</td>\n",
       "      <td>60000.0</td>\n",
       "      <td>1500.0</td>\n",
       "      <td>2.50</td>\n",
       "      <td>60</td>\n",
       "      <td>6000.0</td>\n",
       "      <td>South</td>\n",
       "      <td>2011-04</td>\n",
       "    </tr>\n",
       "    <tr>\n",
       "      <th>4</th>\n",
       "      <td>Clothing</td>\n",
       "      <td>Display</td>\n",
       "      <td>Side</td>\n",
       "      <td>40000.0</td>\n",
       "      <td>1000.0</td>\n",
       "      <td>2.50</td>\n",
       "      <td>35</td>\n",
       "      <td>3500.0</td>\n",
       "      <td>North</td>\n",
       "      <td>2011-05</td>\n",
       "    </tr>\n",
       "  </tbody>\n",
       "</table>\n",
       "</div>"
      ],
      "text/plain": [
       "  Product_Type  Ad_Type Ad_Slot  Impressions  Clicks  Click_Rate  Sales  \\\n",
       "0  Electronics  Display     Top      50000.0  1200.0        2.40     50   \n",
       "1     Clothing    Video    Side      35000.0   801.5        2.29     30   \n",
       "2       Beauty  Display  Bottom      45000.0  1098.0        2.44     40   \n",
       "3  Electronics    Video     Top      60000.0  1500.0        2.50     60   \n",
       "4     Clothing  Display    Side      40000.0  1000.0        2.50     35   \n",
       "\n",
       "   Revenue Region     Date  \n",
       "0   5000.0  North  2011-01  \n",
       "1   3000.0   West  2011-02  \n",
       "2   4000.0   East  2011-03  \n",
       "3   6000.0  South  2011-04  \n",
       "4   3500.0  North  2011-05  "
      ]
     },
     "execution_count": 44,
     "metadata": {
     },
     "output_type": "execute_result"
    }
   ],
   "source": [
    "dataFrame = dataFrame.drop(columns = ['year', 'month'])\n",
    "dataFrame.head()"
   ]
  },
  {
   "cell_type": "markdown",
   "metadata": {
    "collapsed": false
   },
   "source": [
   ]
  },
  {
   "cell_type": "markdown",
   "metadata": {
    "collapsed": false
   },
   "source": [
    "##### *Let's see if we have anything unusual or broken with the new dataframe.*"
   ]
  },
  {
   "cell_type": "code",
   "execution_count": 45,
   "metadata": {
    "collapsed": false,
    "scrolled": true
   },
   "outputs": [
    {
     "name": "stdout",
     "output_type": "stream",
     "text": [
      "<class 'pandas.core.frame.DataFrame'>\n",
      "Index: 144 entries, 0 to 144\n",
      "Data columns (total 10 columns):\n",
      " #   Column        Non-Null Count  Dtype    \n",
      "---  ------        --------------  -----    \n",
      " 0   Product_Type  144 non-null    object   \n",
      " 1   Ad_Type       144 non-null    object   \n",
      " 2   Ad_Slot       144 non-null    object   \n",
      " 3   Impressions   144 non-null    float64  \n",
      " 4   Clicks        144 non-null    float64  \n",
      " 5   Click_Rate    144 non-null    float64  \n",
      " 6   Sales         144 non-null    int64    \n",
      " 7   Revenue       144 non-null    float64  \n",
      " 8   Region        144 non-null    object   \n",
      " 9   Date          144 non-null    period[M]\n",
      "dtypes: float64(4), int64(1), object(4), period[M](1)\n",
      "memory usage: 12.4+ KB\n"
     ]
    }
   ],
   "source": [
    "dataFrame.info()"
   ]
  },
  {
   "cell_type": "code",
   "execution_count": 46,
   "metadata": {
    "collapsed": false
   },
   "outputs": [
    {
     "name": "stdout",
     "output_type": "stream",
     "text": [
      "Product_Type  has total of  0  NA/Null values\n",
      "NA/Null percentage of  Product_Type  is  0 % \n",
      "\n",
      "Ad_Type  has total of  0  NA/Null values\n",
      "NA/Null percentage of  Ad_Type  is  0 % \n",
      "\n",
      "Ad_Slot  has total of  0  NA/Null values\n",
      "NA/Null percentage of  Ad_Slot  is  0 % \n",
      "\n",
      "Impressions  has total of  0  NA/Null values\n",
      "NA/Null percentage of  Impressions  is  0 % \n",
      "\n",
      "Clicks  has total of  0  NA/Null values\n",
      "NA/Null percentage of  Clicks  is  0 % \n",
      "\n",
      "Click_Rate  has total of  0  NA/Null values\n",
      "NA/Null percentage of  Click_Rate  is  0 % \n",
      "\n",
      "Sales  has total of  0  NA/Null values\n",
      "NA/Null percentage of  Sales  is  0 % \n",
      "\n",
      "Revenue  has total of  0  NA/Null values\n",
      "NA/Null percentage of  Revenue  is  0 % \n",
      "\n",
      "Region  has total of  0  NA/Null values\n",
      "NA/Null percentage of  Region  is  0 % \n",
      "\n",
      "Date  has total of  0  NA/Null values\n",
      "NA/Null percentage of  Date  is  0 % \n",
      "\n"
     ]
    },
    {
     "data": {
      "text/plain": [
       "0"
      ]
     },
     "execution_count": 46,
     "metadata": {
     },
     "output_type": "execute_result"
    }
   ],
   "source": [
    "naValues(dataFrame)\n",
    "\n",
    "dataFrame.duplicated().sum()"
   ]
  },
  {
   "cell_type": "markdown",
   "metadata": {
    "collapsed": false
   },
   "source": [
    "##### *There are no NAs and no duplicates.*"
   ]
  },
  {
   "cell_type": "code",
   "execution_count": 47,
   "metadata": {
    "collapsed": false
   },
   "outputs": [
    {
     "data": {
      "text/html": [
       "<div>\n",
       "<style scoped>\n",
       "    .dataframe tbody tr th:only-of-type {\n",
       "        vertical-align: middle;\n",
       "    }\n",
       "\n",
       "    .dataframe tbody tr th {\n",
       "        vertical-align: top;\n",
       "    }\n",
       "\n",
       "    .dataframe thead th {\n",
       "        text-align: right;\n",
       "    }\n",
       "</style>\n",
       "<table border=\"1\" class=\"dataframe\">\n",
       "  <thead>\n",
       "    <tr style=\"text-align: right;\">\n",
       "      <th></th>\n",
       "      <th>count</th>\n",
       "      <th>mean</th>\n",
       "      <th>std</th>\n",
       "      <th>min</th>\n",
       "      <th>25%</th>\n",
       "      <th>50%</th>\n",
       "      <th>75%</th>\n",
       "      <th>max</th>\n",
       "    </tr>\n",
       "  </thead>\n",
       "  <tbody>\n",
       "    <tr>\n",
       "      <th>Impressions</th>\n",
       "      <td>144.0</td>\n",
       "      <td>54333.333</td>\n",
       "      <td>10939.120</td>\n",
       "      <td>32000.00</td>\n",
       "      <td>46000.00</td>\n",
       "      <td>55000.00</td>\n",
       "      <td>62000.00</td>\n",
       "      <td>80000.0</td>\n",
       "    </tr>\n",
       "    <tr>\n",
       "      <th>Clicks</th>\n",
       "      <td>144.0</td>\n",
       "      <td>1304.235</td>\n",
       "      <td>276.702</td>\n",
       "      <td>748.80</td>\n",
       "      <td>1098.00</td>\n",
       "      <td>1298.25</td>\n",
       "      <td>1500.60</td>\n",
       "      <td>1952.0</td>\n",
       "    </tr>\n",
       "    <tr>\n",
       "      <th>Click_Rate</th>\n",
       "      <td>144.0</td>\n",
       "      <td>2.395</td>\n",
       "      <td>0.051</td>\n",
       "      <td>2.27</td>\n",
       "      <td>2.36</td>\n",
       "      <td>2.40</td>\n",
       "      <td>2.43</td>\n",
       "      <td>2.5</td>\n",
       "    </tr>\n",
       "    <tr>\n",
       "      <th>Sales</th>\n",
       "      <td>144.0</td>\n",
       "      <td>53.799</td>\n",
       "      <td>11.559</td>\n",
       "      <td>28.00</td>\n",
       "      <td>45.75</td>\n",
       "      <td>54.00</td>\n",
       "      <td>62.00</td>\n",
       "      <td>80.0</td>\n",
       "    </tr>\n",
       "    <tr>\n",
       "      <th>Revenue</th>\n",
       "      <td>144.0</td>\n",
       "      <td>5389.583</td>\n",
       "      <td>1155.148</td>\n",
       "      <td>2800.00</td>\n",
       "      <td>4575.00</td>\n",
       "      <td>5500.00</td>\n",
       "      <td>6200.00</td>\n",
       "      <td>8000.0</td>\n",
       "    </tr>\n",
       "  </tbody>\n",
       "</table>\n",
       "</div>"
      ],
      "text/plain": [
       "             count       mean        std       min       25%       50%  \\\n",
       "Impressions  144.0  54333.333  10939.120  32000.00  46000.00  55000.00   \n",
       "Clicks       144.0   1304.235    276.702    748.80   1098.00   1298.25   \n",
       "Click_Rate   144.0      2.395      0.051      2.27      2.36      2.40   \n",
       "Sales        144.0     53.799     11.559     28.00     45.75     54.00   \n",
       "Revenue      144.0   5389.583   1155.148   2800.00   4575.00   5500.00   \n",
       "\n",
       "                  75%      max  \n",
       "Impressions  62000.00  80000.0  \n",
       "Clicks        1500.60   1952.0  \n",
       "Click_Rate       2.43      2.5  \n",
       "Sales           62.00     80.0  \n",
       "Revenue       6200.00   8000.0  "
      ]
     },
     "execution_count": 47,
     "metadata": {
     },
     "output_type": "execute_result"
    }
   ],
   "source": [
    "dataFrame.describe().transpose().round(3)"
   ]
  },
  {
   "cell_type": "markdown",
   "metadata": {
    "collapsed": false
   },
   "source": [
    "### **Detecting and Cleaning Outliers**"
   ]
  },
  {
   "cell_type": "markdown",
   "metadata": {
    "collapsed": false
   },
   "source": [
    "##### *Per our instuctors advice, outlier detection is skipped for this project.*"
   ]
  },
  {
   "cell_type": "markdown",
   "metadata": {
    "collapsed": false
   },
   "source": [
    "##### *Let's print the new dataset to a new excel file.*"
   ]
  },
  {
   "cell_type": "code",
   "execution_count": 48,
   "metadata": {
    "collapsed": false
   },
   "outputs": [
   ],
   "source": [
    "dataFrame.to_excel(\"cleanData.xlsx\")"
   ]
  },
  {
   "cell_type": "markdown",
   "metadata": {
    "collapsed": false
   },
   "source": [
    "# **Visualizing the Dataset**\n",
    "\n"
   ]
  },
  {
   "cell_type": "markdown",
   "metadata": {
    "collapsed": false
   },
   "source": [
    "## **Import necessary libraries**"
   ]
  },
  {
   "cell_type": "code",
   "execution_count": 450,
   "metadata": {
    "collapsed": false
   },
   "outputs": [
   ],
   "source": [
    "import seaborn as sns\n",
    "import matplotlib.pyplot as plt"
   ]
  },
  {
   "cell_type": "code",
   "execution_count": 451,
   "metadata": {
    "collapsed": false
   },
   "outputs": [
    {
     "data": {
      "text/plain": [
       "<seaborn.axisgrid.PairGrid at 0x7fa442c95c00>"
      ]
     },
     "execution_count": 451,
     "metadata": {
     },
     "output_type": "execute_result"
    },
    {
     "data": {
      "image/png": "[encoded data removed]",
      "text/plain": [
       "<Figure size 1351.38x1250 with 30 Axes>"
      ]
     }
    }
   ],
   "source": [
    "# To have a general look over dataset\n",
    "sns.pairplot(dataFrame, hue=\"Ad_Type\")"
   ]
  },
  {
   "cell_type": "markdown",
   "metadata": {
    "collapsed": false
   },
   "source": [
    "## **Research questions**"
   ]
  },
  {
   "cell_type": "markdown",
   "metadata": {
    "collapsed": false
   },
   "source": [
    "#### **Q1. Which advert type could be considered the most successful?**\n",
    "\n"
   ]
  },
  {
   "cell_type": "code",
   "execution_count": 452,
   "metadata": {
    "collapsed": false
   },
   "outputs": [
    {
     "data": {
      "text/plain": [
       "Text(0, 0.5, 'Click Rate (%)')"
      ]
     },
     "execution_count": 452,
     "metadata": {
     },
     "output_type": "execute_result"
    },
    {
     "data": {
      "image/png": "[encoded data removed]",
      "text/plain": [
       "<Figure size 640x480 with 1 Axes>"
      ]
     }
    }
   ],
   "source": [
    "palette = sns.color_palette(\"husl\", 3)\n",
    "sns.set_palette(palette)\n",
    "hue_order = ['Side', 'Bottom', 'Top']\n",
    "sns.scatterplot(data = dataFrame, x = \"Sales\", y = \"Click_Rate\", hue = \"Ad_Slot\", hue_order=hue_order)\n",
    "plt.title(\"Correlation Between Sales, Click Rate and Ad Slot\")\n",
    "plt.ylabel(\"Click Rate (%)\")"
   ]
  },
  {
   "cell_type": "markdown",
   "metadata": {
    "collapsed": false
   },
   "source": [
    "##### *According to this scatter plot, ads that are located on Top have led to more sales. Those also had higher click rate, suggesting that consumers are more likely to click and watch on an ad if it is located on top. Similarly, ads on Side had lower click rates, suggesting either lower clicks or lower impresisons. Ads on Bottom side imply no defnite correlation between click rates and sales. However, when we come to the highest click rate value, we can see that the location does not matter and the highest click rate value can be achieved in every advertising position.We see that the lowest sales are ads positioned sideways. Overall, we can see that positioning ads on top is the most advantageous situation for an advertisement.*\n"
   ]
  },
  {
   "cell_type": "code",
   "execution_count": 453,
   "metadata": {
    "collapsed": false
   },
   "outputs": [
    {
     "data": {
      "text/plain": [
       "<Axes: xlabel='Sales', ylabel='Click_Rate'>"
      ]
     },
     "execution_count": 453,
     "metadata": {
     },
     "output_type": "execute_result"
    },
    {
     "data": {
      "image/png": "[encoded data removed]",
      "text/plain": [
       "<Figure size 640x480 with 1 Axes>"
      ]
     }
    }
   ],
   "source": [
    "sns.regplot(data = dataFrame, x = \"Sales\", y = \"Click_Rate\")"
   ]
  },
  {
   "cell_type": "markdown",
   "metadata": {
    "collapsed": false
   },
   "source": [
    "##### *According to the graph here, we can see that there is a sligthly positive correlation between click\\_rate and sales. This shows us that increasing click\\_rate is the right strategy to increase sales. As we saw in the previous graph, placing ads in top positions to maximize click\\_rate will increase the number of sales as well as click\\_rate.*\n"
   ]
  },
  {
   "cell_type": "code",
   "execution_count": 454,
   "metadata": {
    "collapsed": false
   },
   "outputs": [
    {
     "data": {
      "text/plain": [
       "<Axes: xlabel='Ad_Type', ylabel='Click_Rate'>"
      ]
     },
     "execution_count": 454,
     "metadata": {
     },
     "output_type": "execute_result"
    },
    {
     "data": {
      "image/png": "[encoded data removed]",
      "text/plain": [
       "<Figure size 640x480 with 1 Axes>"
      ]
     }
    }
   ],
   "source": [
    "hue_order = ['Electronics', 'Clothing', 'Beauty']\n",
    "sns.violinplot(data = dataFrame, y = \"Click_Rate\", x = \"Ad_Type\", hue = \"Product_Type\", hue_order=hue_order)"
   ]
  },
  {
   "cell_type": "markdown",
   "metadata": {
    "collapsed": false
   },
   "source": [
    "#### **Q2. Is there a notable difference in revenue due to seasons?**\n",
    "\n"
   ]
  },
  {
   "cell_type": "code",
   "execution_count": 455,
   "metadata": {
    "collapsed": false
   },
   "outputs": [
    {
     "data": {
      "text/plain": [
       "<Axes: xlabel='Date', ylabel='Sales'>"
      ]
     },
     "execution_count": 455,
     "metadata": {
     },
     "output_type": "execute_result"
    },
    {
     "data": {
      "image/png": "[encoded data removed]",
      "text/plain": [
       "<Figure size 640x480 with 1 Axes>"
      ]
     }
    }
   ],
   "source": [
    "sns.lineplot(data = dataFrame,x = dataFrame[\"Date\"].dt.to_timestamp(freq = \"3M\"), y = dataFrame[\"Sales\"],hue = dataFrame[\"Product_Type\"]) # date has been taken in 3 month periods"
   ]
  },
  {
   "cell_type": "code",
   "execution_count": 456,
   "metadata": {
    "collapsed": false
   },
   "outputs": [
    {
     "data": {
      "text/plain": [
       "<matplotlib.legend.Legend at 0x7fa441fcac20>"
      ]
     },
     "execution_count": 456,
     "metadata": {
     },
     "output_type": "execute_result"
    },
    {
     "data": {
      "image/png": "[encoded data removed]",
      "text/plain": [
       "<Figure size 640x480 with 1 Axes>"
      ]
     }
    }
   ],
   "source": [
    "sns.lineplot(data = dataFrame,x = dataFrame[\"Date\"].dt.to_timestamp(\"Y\"), y = dataFrame[\"Sales\"],hue = dataFrame[\"Product_Type\"], style = 'Product_Type') # date has been taken in yearly periods\n",
    "\n",
    "plt.legend(bbox_to_anchor=(0.02, 0.98), loc='upper left', borderaxespad=0)"
   ]
  },
  {
   "cell_type": "markdown",
   "metadata": {
    "collapsed": false
   },
   "source": [
    "#### **Q3. Do regions affect sales, are there weak or strong correlations that can be established in this interaction?**\n",
    "\n"
   ]
  },
  {
   "cell_type": "code",
   "execution_count": 457,
   "metadata": {
    "collapsed": false,
    "scrolled": true
   },
   "outputs": [
    {
     "data": {
      "text/plain": [
       "<matplotlib.legend.Legend at 0x7fa441fca9e0>"
      ]
     },
     "execution_count": 457,
     "metadata": {
     },
     "output_type": "execute_result"
    },
    {
     "data": {
      "image/png": "[encoded data removed]",
      "text/plain": [
       "<Figure size 640x480 with 1 Axes>"
      ]
     }
    }
   ],
   "source": [
    "sns.barplot(data = dataFrame, y = \"Sales\", x = \"Region\", hue = \"Product_Type\")\n",
    "plt.legend(bbox_to_anchor=(1.3, 1), loc='upper right', borderaxespad=0)"
   ]
  },
  {
   "cell_type": "code",
   "execution_count": 458,
   "metadata": {
    "collapsed": false
   },
   "outputs": [
    {
     "data": {
      "text/plain": [
       "<matplotlib.legend.Legend at 0x7fa441e07850>"
      ]
     },
     "execution_count": 458,
     "metadata": {
     },
     "output_type": "execute_result"
    },
    {
     "data": {
      "image/png": "[encoded data removed]",
      "text/plain": [
       "<Figure size 640x480 with 1 Axes>"
      ]
     }
    }
   ],
   "source": [
    "sns.boxplot(data = dataFrame, y = \"Clicks\", x = \"Region\", hue = \"Ad_Type\")\n",
    "plt.legend(bbox_to_anchor=(1.3, 1), loc='upper right', borderaxespad=0)"
   ]
  },
  {
   "cell_type": "markdown",
   "metadata": {
    "collapsed": false
   },
   "source": [
    "#### **Q4. Does the number of views have a direct impact on sales? If so, can the revenue earned from these sales show that a strategy to increase the number of views is profitable?**\n",
    "\n"
   ]
  },
  {
   "cell_type": "code",
   "execution_count": 459,
   "metadata": {
    "collapsed": false,
    "scrolled": true
   },
   "outputs": [
    {
     "data": {
      "text/plain": [
       "<Axes: xlabel='Sales', ylabel='Impressions'>"
      ]
     },
     "execution_count": 459,
     "metadata": {
     },
     "output_type": "execute_result"
    },
    {
     "data": {
      "image/png": "[encoded data removed]",
      "text/plain": [
       "<Figure size 640x480 with 1 Axes>"
      ]
     }
    }
   ],
   "source": [
    "sns.scatterplot(data = dataFrame, x = \"Sales\", y = \"Impressions\")"
   ]
  },
  {
   "cell_type": "code",
   "execution_count": 460,
   "metadata": {
    "collapsed": false
   },
   "outputs": [
    {
     "data": {
      "text/plain": [
       "<Axes: xlabel='Sales', ylabel='Revenue'>"
      ]
     },
     "execution_count": 460,
     "metadata": {
     },
     "output_type": "execute_result"
    },
    {
     "data": {
      "image/png": "[encoded data removed]",
      "text/plain": [
       "<Figure size 640x480 with 1 Axes>"
      ]
     }
    }
   ],
   "source": [
    "sns.lineplot(data = dataFrame, x=\"Sales\", y=\"Revenue\")"
   ]
  },
  {
   "cell_type": "markdown",
   "metadata": {
    "collapsed": false
   },
   "source": [
    "#### **Q5. Which type of products ads have generated more revenue?**\n",
    "\n"
   ]
  },
  {
   "cell_type": "code",
   "execution_count": 461,
   "metadata": {
    "collapsed": false
   },
   "outputs": [
    {
     "data": {
      "text/plain": [
       "<Axes: xlabel='Revenue', ylabel='Count'>"
      ]
     },
     "execution_count": 461,
     "metadata": {
     },
     "output_type": "execute_result"
    },
    {
     "data": {
      "image/png": "[encoded data removed]",
      "text/plain": [
       "<Figure size 640x480 with 1 Axes>"
      ]
     }
    }
   ],
   "source": [
    "sns.histplot(data = dataFrame, x = \"Revenue\", hue = \"Product_Type\", kde = True, bins = 20, element = \"step\")\n",
    "\n",
    "#Minecraft Plot v.2"
   ]
  }
 ],
 "metadata": {
  "kernelspec": {
   "argv": [
    "/usr/bin/python3",
    "-m",
    "ipykernel_launcher",
    "-f",
    "{connection_file}"
   ],
   "display_name": "Python 3 (ipykernel)",
   "env": {
   },
   "language": "python",
   "metadata": {
    "debugger": true
   },
   "name": "python3",
   "resource_dir": "/usr/local/share/jupyter/kernels/python3"
  },
  "language_info": {
   "codemirror_mode": {
    "name": "ipython",
    "version": 3
   },
   "file_extension": ".py",
   "mimetype": "text/x-python",
   "name": "python",
   "nbconvert_exporter": "python",
   "pygments_lexer": "ipython3",
   "version": "3.10.12"
  },
  "vscode": {
   "interpreter": {
    "hash": "342d38b7afa2acdd8ebd0998d375467b01a08d7e689bfaa17c49950a48352e80"
   }
  }
 },
 "nbformat": 4,
 "nbformat_minor": 4
}